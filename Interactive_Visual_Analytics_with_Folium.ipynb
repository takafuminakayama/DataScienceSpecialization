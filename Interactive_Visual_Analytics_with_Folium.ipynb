{
  "cells": [
    {
      "metadata": {
        "id": "3n3ltmfnrqpi",
        "outputId": "a2d4f52a-2fb7-4668-f5f0-fe862aab8eb0",
        "papermill": {
          "duration": 1.489571,
          "end_time": "2020-09-19T06:26:57.168979",
          "exception": false,
          "start_time": "2020-09-19T06:26:55.679408",
          "status": "completed"
        },
        "tags": []
      },
      "cell_type": "markdown",
      "source": [
        "<center>\n",
        "    <img src=\"https://gitlab.com/ibm/skills-network/courses/placeholder101/-/raw/master/labs/module%201/images/IDSNlogo.png\" width=\"300\" alt=\"cognitiveclass.ai logo\"  />\n",
        "</center>\n"
      ]
    },
    {
      "metadata": {
        "id": "nguYl0nETdWh"
      },
      "cell_type": "markdown",
      "source": [
        "# **Launch Sites Locations Analysis with Folium**\n"
      ]
    },
    {
      "metadata": {
        "id": "arIWZZzgTdWh"
      },
      "cell_type": "markdown",
      "source": [
        "Estimated time needed: **40** minutes\n"
      ]
    },
    {
      "metadata": {
        "id": "ZO573RChTdWi"
      },
      "cell_type": "markdown",
      "source": [
        "The launch success rate may depend on many factors such as payload mass, orbit type, and so on. It may also depend on the location and proximities of a launch site, i.e., the initial position of rocket trajectories. Finding an optimal location for building a launch site certainly involves many factors and hopefully we could discover some of the factors by analyzing the existing launch site locations.\n"
      ]
    },
    {
      "metadata": {
        "id": "Fk5IcREWTdWi"
      },
      "cell_type": "markdown",
      "source": [
        "In the previous exploratory data analysis labs, you have visualized the SpaceX launch dataset using `matplotlib` and `seaborn` and discovered some preliminary correlations between the launch site and success rates. In this lab, you will be performing more interactive visual analytics using `Folium`.\n"
      ]
    },
    {
      "metadata": {
        "id": "C43QI3KrTdWj"
      },
      "cell_type": "markdown",
      "source": [
        "## Objectives\n"
      ]
    },
    {
      "metadata": {
        "id": "y1rdWqokTdWj"
      },
      "cell_type": "markdown",
      "source": [
        "This lab contains the following tasks:\n",
        "\n",
        "*   **TASK 1:** Mark all launch sites on a map\n",
        "*   **TASK 2:** Mark the success/failed launches for each site on the map\n",
        "*   **TASK 3:** Calculate the distances between a launch site to its proximities\n",
        "\n",
        "After completed the above tasks, you should be able to find some geographical patterns about launch sites.\n"
      ]
    },
    {
      "metadata": {
        "id": "3yg7AKftTdWk"
      },
      "cell_type": "markdown",
      "source": [
        "Let's first import required Python packages for this lab:\n"
      ]
    },
    {
      "metadata": {
        "id": "dgOLHOt6TdWl",
        "outputId": "c2e89561-4fbe-475f-a9cf-a542e48f6953"
      },
      "cell_type": "code",
      "source": [
        "!pip3 install folium\n",
        "!pip3 install wget"
      ],
      "execution_count": null,
      "outputs": [
        {
          "output_type": "stream",
          "text": "Collecting folium\n  Downloading folium-0.12.1.post1-py2.py3-none-any.whl (95 kB)\n\u001b[K     |████████████████████████████████| 95 kB 7.9 MB/s  eta 0:00:01\n\u001b[?25hCollecting branca>=0.3.0\n  Downloading branca-0.5.0-py3-none-any.whl (24 kB)\nRequirement already satisfied: numpy in /opt/conda/envs/Python-3.9/lib/python3.9/site-packages (from folium) (1.20.3)\nRequirement already satisfied: requests in /opt/conda/envs/Python-3.9/lib/python3.9/site-packages (from folium) (2.26.0)\nRequirement already satisfied: jinja2>=2.9 in /opt/conda/envs/Python-3.9/lib/python3.9/site-packages (from folium) (3.0.2)\nRequirement already satisfied: MarkupSafe>=2.0 in /opt/conda/envs/Python-3.9/lib/python3.9/site-packages (from jinja2>=2.9->folium) (2.0.1)\nRequirement already satisfied: certifi>=2017.4.17 in /opt/conda/envs/Python-3.9/lib/python3.9/site-packages (from requests->folium) (2021.10.8)\nRequirement already satisfied: idna<4,>=2.5 in /opt/conda/envs/Python-3.9/lib/python3.9/site-packages (from requests->folium) (3.3)\nRequirement already satisfied: charset-normalizer~=2.0.0 in /opt/conda/envs/Python-3.9/lib/python3.9/site-packages (from requests->folium) (2.0.4)\nRequirement already satisfied: urllib3<1.27,>=1.21.1 in /opt/conda/envs/Python-3.9/lib/python3.9/site-packages (from requests->folium) (1.26.7)\nInstalling collected packages: branca, folium\nSuccessfully installed branca-0.5.0 folium-0.12.1.post1\nCollecting wget\n  Downloading wget-3.2.zip (10 kB)\nBuilding wheels for collected packages: wget\n  Building wheel for wget (setup.py) ... \u001b[?25ldone\n\u001b[?25h  Created wheel for wget: filename=wget-3.2-py3-none-any.whl size=9672 sha256=539359dcfe5a01fabbcc840c4457f7af0db87c8ccc3d0f9d09e7192fcec45619\n  Stored in directory: /tmp/wsuser/.cache/pip/wheels/04/5f/3e/46cc37c5d698415694d83f607f833f83f0149e49b3af9d0f38\nSuccessfully built wget\nInstalling collected packages: wget\nSuccessfully installed wget-3.2\n",
          "name": "stdout"
        }
      ]
    },
    {
      "metadata": {
        "id": "YWKbg63pTdWo"
      },
      "cell_type": "code",
      "source": [
        "import folium\n",
        "import wget\n",
        "import pandas as pd"
      ],
      "execution_count": null,
      "outputs": []
    },
    {
      "metadata": {
        "id": "F1HEGyfQTdWo"
      },
      "cell_type": "code",
      "source": [
        "# Import folium MarkerCluster plugin\n",
        "from folium.plugins import MarkerCluster\n",
        "# Import folium MousePosition plugin\n",
        "from folium.plugins import MousePosition\n",
        "# Import folium DivIcon plugin\n",
        "from folium.features import DivIcon"
      ],
      "execution_count": null,
      "outputs": []
    },
    {
      "metadata": {
        "id": "n7jeQjrvTdWp"
      },
      "cell_type": "markdown",
      "source": [
        "If you need to refresh your memory about folium, you may download and refer to this previous folium lab:\n"
      ]
    },
    {
      "metadata": {
        "id": "al5K0h9-TdWp"
      },
      "cell_type": "markdown",
      "source": [
        "[Generating Maps with Python](https://cf-courses-data.s3.us.cloud-object-storage.appdomain.cloud/IBM-DS0321EN-SkillsNetwork/labs/module\\_3/DV0101EN-3-5-1-Generating-Maps-in-Python-py-v2.0.ipynb)\n"
      ]
    },
    {
      "metadata": {
        "id": "5dCR1jloTdWp"
      },
      "cell_type": "markdown",
      "source": [
        "## Task 1: Mark all launch sites on a map\n"
      ]
    },
    {
      "metadata": {
        "id": "YSxdrXa2TdWq"
      },
      "cell_type": "markdown",
      "source": [
        "First, let's try to add each site's location on a map using site's latitude and longitude coordinates\n"
      ]
    },
    {
      "metadata": {
        "id": "1CnWjnUmTdWq"
      },
      "cell_type": "markdown",
      "source": [
        "The following dataset with the name `spacex_launch_geo.csv` is an augmented dataset with latitude and longitude added for each site.\n"
      ]
    },
    {
      "metadata": {
        "id": "eQpQO05RTdWq"
      },
      "cell_type": "code",
      "source": [
        "# Download and read the `spacex_launch_geo.csv`\n",
        "spacex_csv_file = wget.download('https://cf-courses-data.s3.us.cloud-object-storage.appdomain.cloud/IBM-DS0321EN-SkillsNetwork/datasets/spacex_launch_geo.csv')\n",
        "spacex_df=pd.read_csv(spacex_csv_file)"
      ],
      "execution_count": null,
      "outputs": []
    },
    {
      "metadata": {
        "id": "DMAq_AhyTdWr"
      },
      "cell_type": "markdown",
      "source": [
        "Now, you can take a look at what are the coordinates for each site.\n"
      ]
    },
    {
      "metadata": {
        "id": "TOjwqc73TdWr",
        "outputId": "34b01cef-88b7-4879-f9fa-903b75e7fc1b"
      },
      "cell_type": "code",
      "source": [
        "# Select relevant sub-columns: `Launch Site`, `Lat(Latitude)`, `Long(Longitude)`, `class`\n",
        "spacex_df = spacex_df[['Launch Site', 'Lat', 'Long', 'class']]\n",
        "launch_sites_df = spacex_df.groupby(['Launch Site'], as_index=False).first()\n",
        "launch_sites_df = launch_sites_df[['Launch Site', 'Lat', 'Long']]\n",
        "launch_sites_df"
      ],
      "execution_count": null,
      "outputs": [
        {
          "output_type": "execute_result",
          "execution_count": 5,
          "data": {
            "text/plain": "    Launch Site        Lat        Long\n0   CCAFS LC-40  28.562302  -80.577356\n1  CCAFS SLC-40  28.563197  -80.576820\n2    KSC LC-39A  28.573255  -80.646895\n3   VAFB SLC-4E  34.632834 -120.610745",
            "text/html": "<div>\n<style scoped>\n    .dataframe tbody tr th:only-of-type {\n        vertical-align: middle;\n    }\n\n    .dataframe tbody tr th {\n        vertical-align: top;\n    }\n\n    .dataframe thead th {\n        text-align: right;\n    }\n</style>\n<table border=\"1\" class=\"dataframe\">\n  <thead>\n    <tr style=\"text-align: right;\">\n      <th></th>\n      <th>Launch Site</th>\n      <th>Lat</th>\n      <th>Long</th>\n    </tr>\n  </thead>\n  <tbody>\n    <tr>\n      <th>0</th>\n      <td>CCAFS LC-40</td>\n      <td>28.562302</td>\n      <td>-80.577356</td>\n    </tr>\n    <tr>\n      <th>1</th>\n      <td>CCAFS SLC-40</td>\n      <td>28.563197</td>\n      <td>-80.576820</td>\n    </tr>\n    <tr>\n      <th>2</th>\n      <td>KSC LC-39A</td>\n      <td>28.573255</td>\n      <td>-80.646895</td>\n    </tr>\n    <tr>\n      <th>3</th>\n      <td>VAFB SLC-4E</td>\n      <td>34.632834</td>\n      <td>-120.610745</td>\n    </tr>\n  </tbody>\n</table>\n</div>"
          },
          "metadata": {}
        }
      ]
    },
    {
      "metadata": {
        "id": "qJ1cX5luTdWs"
      },
      "cell_type": "markdown",
      "source": [
        "Above coordinates are just plain numbers that can not give you any intuitive insights about where are those launch sites. If you are very good at geography, you can interpret those numbers directly in your mind. If not, that's fine too. Let's visualize those locations by pinning them on a map.\n"
      ]
    },
    {
      "metadata": {
        "id": "H-NqR2CGTdWs"
      },
      "cell_type": "markdown",
      "source": [
        "We first need to create a folium `Map` object, with an initial center location to be NASA Johnson Space Center at Houston, Texas.\n"
      ]
    },
    {
      "metadata": {
        "id": "4HnFTeIXTdWs"
      },
      "cell_type": "code",
      "source": [
        "# Start location is NASA Johnson Space Center\n",
        "nasa_coordinate = [29.559684888503615, -95.0830971930759]\n",
        "site_map = folium.Map(location=nasa_coordinate, zoom_start=10)"
      ],
      "execution_count": null,
      "outputs": []
    },
    {
      "metadata": {
        "id": "C1NASRKITdWs"
      },
      "cell_type": "markdown",
      "source": [
        "We could use `folium.Circle` to add a highlighted circle area with a text label on a specific coordinate. For example,\n"
      ]
    },
    {
      "metadata": {
        "id": "AE16gQy2TdWt",
        "outputId": "66a62db5-b3ad-47b7-a6fa-f061f6065cb7"
      },
      "cell_type": "code",
      "source": [
        "# Create a blue circle at NASA Johnson Space Center's coordinate with a popup label showing its name\n",
        "circle = folium.Circle(nasa_coordinate, radius=1000, color='#d35400', fill=True).add_child(folium.Popup('NASA Johnson Space Center'))\n",
        "# Create a blue circle at NASA Johnson Space Center's coordinate with a icon showing its name\n",
        "marker = folium.map.Marker(\n",
        "    nasa_coordinate,\n",
        "    # Create an icon as a text label\n",
        "    icon=DivIcon(\n",
        "        icon_size=(20,20),\n",
        "        icon_anchor=(0,0),\n",
        "        html='<div style=\"font-size: 12; color:#d35400;\"><b>%s</b></div>' % 'NASA JSC',\n",
        "        )\n",
        "    )\n",
        "site_map.add_child(circle)\n",
        "site_map.add_child(marker)"
      ],
      "execution_count": null,
      "outputs": [
        {
          "output_type": "execute_result",
          "execution_count": 7,
          "data": {
            "text/plain": "<folium.folium.Map at 0x7f215ba5d2b0>",
            "text/html": "<div style=\"width:100%;\"><div style=\"position:relative;width:100%;height:0;padding-bottom:60%;\"><span style=\"color:#565656\">Make this Notebook Trusted to load map: File -> Trust Notebook</span><iframe srcdoc=\"&lt;!DOCTYPE html&gt;\n&lt;head&gt;    \n    &lt;meta http-equiv=&quot;content-type&quot; content=&quot;text/html; charset=UTF-8&quot; /&gt;\n    \n        &lt;script&gt;\n            L_NO_TOUCH = false;\n            L_DISABLE_3D = false;\n        &lt;/script&gt;\n    \n    &lt;style&gt;html, body {width: 100%;height: 100%;margin: 0;padding: 0;}&lt;/style&gt;\n    &lt;style&gt;#map {position:absolute;top:0;bottom:0;right:0;left:0;}&lt;/style&gt;\n    &lt;script src=&quot;https://cdn.jsdelivr.net/npm/leaflet@1.6.0/dist/leaflet.js&quot;&gt;&lt;/script&gt;\n    &lt;script src=&quot;https://code.jquery.com/jquery-1.12.4.min.js&quot;&gt;&lt;/script&gt;\n    &lt;script src=&quot;https://maxcdn.bootstrapcdn.com/bootstrap/3.2.0/js/bootstrap.min.js&quot;&gt;&lt;/script&gt;\n    &lt;script src=&quot;https://cdnjs.cloudflare.com/ajax/libs/Leaflet.awesome-markers/2.0.2/leaflet.awesome-markers.js&quot;&gt;&lt;/script&gt;\n    &lt;link rel=&quot;stylesheet&quot; href=&quot;https://cdn.jsdelivr.net/npm/leaflet@1.6.0/dist/leaflet.css&quot;/&gt;\n    &lt;link rel=&quot;stylesheet&quot; href=&quot;https://maxcdn.bootstrapcdn.com/bootstrap/3.2.0/css/bootstrap.min.css&quot;/&gt;\n    &lt;link rel=&quot;stylesheet&quot; href=&quot;https://maxcdn.bootstrapcdn.com/bootstrap/3.2.0/css/bootstrap-theme.min.css&quot;/&gt;\n    &lt;link rel=&quot;stylesheet&quot; href=&quot;https://maxcdn.bootstrapcdn.com/font-awesome/4.6.3/css/font-awesome.min.css&quot;/&gt;\n    &lt;link rel=&quot;stylesheet&quot; href=&quot;https://cdnjs.cloudflare.com/ajax/libs/Leaflet.awesome-markers/2.0.2/leaflet.awesome-markers.css&quot;/&gt;\n    &lt;link rel=&quot;stylesheet&quot; href=&quot;https://cdn.jsdelivr.net/gh/python-visualization/folium/folium/templates/leaflet.awesome.rotate.min.css&quot;/&gt;\n    \n            &lt;meta name=&quot;viewport&quot; content=&quot;width=device-width,\n                initial-scale=1.0, maximum-scale=1.0, user-scalable=no&quot; /&gt;\n            &lt;style&gt;\n                #map_e65e1d0a8cc2bf65e5c8f205948b009b {\n                    position: relative;\n                    width: 100.0%;\n                    height: 100.0%;\n                    left: 0.0%;\n                    top: 0.0%;\n                }\n            &lt;/style&gt;\n        \n&lt;/head&gt;\n&lt;body&gt;    \n    \n            &lt;div class=&quot;folium-map&quot; id=&quot;map_e65e1d0a8cc2bf65e5c8f205948b009b&quot; &gt;&lt;/div&gt;\n        \n&lt;/body&gt;\n&lt;script&gt;    \n    \n            var map_e65e1d0a8cc2bf65e5c8f205948b009b = L.map(\n                &quot;map_e65e1d0a8cc2bf65e5c8f205948b009b&quot;,\n                {\n                    center: [29.559684888503615, -95.0830971930759],\n                    crs: L.CRS.EPSG3857,\n                    zoom: 10,\n                    zoomControl: true,\n                    preferCanvas: false,\n                }\n            );\n\n            \n\n        \n    \n            var tile_layer_74eb653c5801f89b8d3faea03a965fa1 = L.tileLayer(\n                &quot;https://{s}.tile.openstreetmap.org/{z}/{x}/{y}.png&quot;,\n                {&quot;attribution&quot;: &quot;Data by \\u0026copy; \\u003ca href=\\&quot;http://openstreetmap.org\\&quot;\\u003eOpenStreetMap\\u003c/a\\u003e, under \\u003ca href=\\&quot;http://www.openstreetmap.org/copyright\\&quot;\\u003eODbL\\u003c/a\\u003e.&quot;, &quot;detectRetina&quot;: false, &quot;maxNativeZoom&quot;: 18, &quot;maxZoom&quot;: 18, &quot;minZoom&quot;: 0, &quot;noWrap&quot;: false, &quot;opacity&quot;: 1, &quot;subdomains&quot;: &quot;abc&quot;, &quot;tms&quot;: false}\n            ).addTo(map_e65e1d0a8cc2bf65e5c8f205948b009b);\n        \n    \n            var circle_ce9c8efc79c26b16be91728b3e4c2228 = L.circle(\n                [29.559684888503615, -95.0830971930759],\n                {&quot;bubblingMouseEvents&quot;: true, &quot;color&quot;: &quot;#d35400&quot;, &quot;dashArray&quot;: null, &quot;dashOffset&quot;: null, &quot;fill&quot;: true, &quot;fillColor&quot;: &quot;#d35400&quot;, &quot;fillOpacity&quot;: 0.2, &quot;fillRule&quot;: &quot;evenodd&quot;, &quot;lineCap&quot;: &quot;round&quot;, &quot;lineJoin&quot;: &quot;round&quot;, &quot;opacity&quot;: 1.0, &quot;radius&quot;: 1000, &quot;stroke&quot;: true, &quot;weight&quot;: 3}\n            ).addTo(map_e65e1d0a8cc2bf65e5c8f205948b009b);\n        \n    \n        var popup_3b169f8392f44e89c97389b1fc010ccf = L.popup({&quot;maxWidth&quot;: &quot;100%&quot;});\n\n        \n            var html_9126020fb93a91e67fc07b22dea4903a = $(`&lt;div id=&quot;html_9126020fb93a91e67fc07b22dea4903a&quot; style=&quot;width: 100.0%; height: 100.0%;&quot;&gt;NASA Johnson Space Center&lt;/div&gt;`)[0];\n            popup_3b169f8392f44e89c97389b1fc010ccf.setContent(html_9126020fb93a91e67fc07b22dea4903a);\n        \n\n        circle_ce9c8efc79c26b16be91728b3e4c2228.bindPopup(popup_3b169f8392f44e89c97389b1fc010ccf)\n        ;\n\n        \n    \n    \n            var marker_49eedf415eee75d2c093f9746c2993a2 = L.marker(\n                [29.559684888503615, -95.0830971930759],\n                {}\n            ).addTo(map_e65e1d0a8cc2bf65e5c8f205948b009b);\n        \n    \n            var div_icon_608e4f86af5bd89e26fd467156193b79 = L.divIcon({&quot;className&quot;: &quot;empty&quot;, &quot;html&quot;: &quot;\\u003cdiv style=\\&quot;font-size: 12; color:#d35400;\\&quot;\\u003e\\u003cb\\u003eNASA JSC\\u003c/b\\u003e\\u003c/div\\u003e&quot;, &quot;iconAnchor&quot;: [0, 0], &quot;iconSize&quot;: [20, 20]});\n            marker_49eedf415eee75d2c093f9746c2993a2.setIcon(div_icon_608e4f86af5bd89e26fd467156193b79);\n        \n&lt;/script&gt;\" style=\"position:absolute;width:100%;height:100%;left:0;top:0;border:none !important;\" allowfullscreen webkitallowfullscreen mozallowfullscreen></iframe></div></div>"
          },
          "metadata": {}
        }
      ]
    },
    {
      "metadata": {
        "id": "w2GFSX7kTdWt"
      },
      "cell_type": "markdown",
      "source": [
        "and you should find a small yellow circle near the city of Houston and you can zoom-in to see a larger circle.\n"
      ]
    },
    {
      "metadata": {
        "id": "Cfj3q-BaTdWt"
      },
      "cell_type": "markdown",
      "source": [
        "Now, let's add a circle for each launch site in data frame `launch_sites`\n"
      ]
    },
    {
      "metadata": {
        "id": "KQvolQSTTdWu"
      },
      "cell_type": "markdown",
      "source": [
        "*TODO:*  Create and add `folium.Circle` and `folium.Marker` for each launch site on the site map\n"
      ]
    },
    {
      "metadata": {
        "id": "jCWiVB_iTdWu"
      },
      "cell_type": "markdown",
      "source": [
        "An example of folium.Circle:\n"
      ]
    },
    {
      "metadata": {
        "id": "670xAQxMTdWu"
      },
      "cell_type": "markdown",
      "source": [
        "`folium.Circle(coordinate, radius=1000, color='#000000', fill=True).add_child(folium.Popup(...))`\n"
      ]
    },
    {
      "metadata": {
        "id": "UXXSvdkHTdWv"
      },
      "cell_type": "markdown",
      "source": [
        "An example of folium.Marker:\n"
      ]
    },
    {
      "metadata": {
        "id": "Rx8wGhp0TdWv"
      },
      "cell_type": "markdown",
      "source": [
        "`folium.map.Marker(coordinate, icon=DivIcon(icon_size=(20,20),icon_anchor=(0,0), html='<div style=\"font-size: 12; color:#d35400;\"><b>%s</b></div>' % 'label', ))`\n"
      ]
    },
    {
      "metadata": {
        "id": "_3-XwMViTdWv",
        "outputId": "d5cfd431-65c8-40e2-dccf-0d1560bb5551"
      },
      "cell_type": "code",
      "source": [
        "# Initial the map\n",
        "site_map = folium.Map(location=nasa_coordinate, zoom_start=5)\n",
        "# For each launch site, add a Circle object based on its coordinate (Lat, Long) values. In addition, add Launch site name as a popup label\n",
        "launch_sites_df['Lat'][0]\n",
        "coord1 = [launch_sites_df['Lat'][0], launch_sites_df['Long'][0]]\n",
        "coord2 = [launch_sites_df['Lat'][1], launch_sites_df['Long'][1]]\n",
        "coord3 = [launch_sites_df['Lat'][2], launch_sites_df['Long'][2]]\n",
        "coord4 = [launch_sites_df['Lat'][3], launch_sites_df['Long'][3]]\n",
        "\n",
        "circle1 = folium.Circle(coord1, radius=1000, color='#d35400', fill=True).add_child(folium.Popup(launch_sites_df['Launch Site'][0]))\n",
        "circle2 = folium.Circle(coord2, radius=1000, color='#d35400', fill=True).add_child(folium.Popup(launch_sites_df['Launch Site'][1]))\n",
        "circle3 = folium.Circle(coord3, radius=1000, color='#d35400', fill=True).add_child(folium.Popup(launch_sites_df['Launch Site'][2]))\n",
        "circle4 = folium.Circle(coord4, radius=1000, color='#d35400', fill=True).add_child(folium.Popup(launch_sites_df['Launch Site'][3]))\n",
        "\n",
        "marker1 = folium.map.Marker(\n",
        "    coord1,\n",
        "    # Create an icon as a text label\n",
        "    icon=DivIcon(\n",
        "        icon_size=(20,20),\n",
        "        icon_anchor=(0,0),\n",
        "        html='<div style=\"font-size: 12; color:#d35400;\"><b>%s</b></div>' % launch_sites_df['Launch Site'][0],\n",
        "        )\n",
        "    )\n",
        "\n",
        "marker1 = folium.map.Marker(\n",
        "    coord1,\n",
        "    # Create an icon as a text label\n",
        "    icon=DivIcon(\n",
        "        icon_size=(20,20),\n",
        "        icon_anchor=(0,0),\n",
        "        html='<div style=\"font-size: 12; color:#d35400;\"><b>%s</b></div>' % launch_sites_df['Launch Site'][0],\n",
        "        )\n",
        "    )\n",
        "\n",
        "marker2 = folium.map.Marker(\n",
        "    coord2,\n",
        "    # Create an icon as a text label\n",
        "    icon=DivIcon(\n",
        "        icon_size=(20,20),\n",
        "        icon_anchor=(0,0),\n",
        "        html='<div style=\"font-size: 12; color:#d35400;\"><b>%s</b></div>' % launch_sites_df['Launch Site'][1],\n",
        "        )\n",
        "    )\n",
        "\n",
        "marker3 = folium.map.Marker(\n",
        "    coord3,\n",
        "    # Create an icon as a text label\n",
        "    icon=DivIcon(\n",
        "        icon_size=(20,20),\n",
        "        icon_anchor=(0,0),\n",
        "        html='<div style=\"font-size: 12; color:#d35400;\"><b>%s</b></div>' % launch_sites_df['Launch Site'][2],\n",
        "        )\n",
        "    )\n",
        "\n",
        "marker4 = folium.map.Marker(\n",
        "    coord4,\n",
        "    # Create an icon as a text label\n",
        "    icon=DivIcon(\n",
        "        icon_size=(20,20),\n",
        "        icon_anchor=(0,0),\n",
        "        html='<div style=\"font-size: 12; color:#d35400;\"><b>%s</b></div>' % launch_sites_df['Launch Site'][3],\n",
        "        )\n",
        "    )\n",
        "\n",
        "site_map.add_child(circle1)\n",
        "site_map.add_child(marker1)\n",
        "site_map.add_child(circle2)\n",
        "site_map.add_child(marker2)\n",
        "site_map.add_child(circle3)\n",
        "site_map.add_child(marker3)\n",
        "site_map.add_child(circle4)\n",
        "site_map.add_child(marker4)"
      ],
      "execution_count": null,
      "outputs": [
        {
          "output_type": "execute_result",
          "execution_count": 15,
          "data": {
            "text/plain": "<folium.folium.Map at 0x7f215baa0df0>",
            "text/html": "<div style=\"width:100%;\"><div style=\"position:relative;width:100%;height:0;padding-bottom:60%;\"><span style=\"color:#565656\">Make this Notebook Trusted to load map: File -> Trust Notebook</span><iframe srcdoc=\"&lt;!DOCTYPE html&gt;\n&lt;head&gt;    \n    &lt;meta http-equiv=&quot;content-type&quot; content=&quot;text/html; charset=UTF-8&quot; /&gt;\n    \n        &lt;script&gt;\n            L_NO_TOUCH = false;\n            L_DISABLE_3D = false;\n        &lt;/script&gt;\n    \n    &lt;style&gt;html, body {width: 100%;height: 100%;margin: 0;padding: 0;}&lt;/style&gt;\n    &lt;style&gt;#map {position:absolute;top:0;bottom:0;right:0;left:0;}&lt;/style&gt;\n    &lt;script src=&quot;https://cdn.jsdelivr.net/npm/leaflet@1.6.0/dist/leaflet.js&quot;&gt;&lt;/script&gt;\n    &lt;script src=&quot;https://code.jquery.com/jquery-1.12.4.min.js&quot;&gt;&lt;/script&gt;\n    &lt;script src=&quot;https://maxcdn.bootstrapcdn.com/bootstrap/3.2.0/js/bootstrap.min.js&quot;&gt;&lt;/script&gt;\n    &lt;script src=&quot;https://cdnjs.cloudflare.com/ajax/libs/Leaflet.awesome-markers/2.0.2/leaflet.awesome-markers.js&quot;&gt;&lt;/script&gt;\n    &lt;link rel=&quot;stylesheet&quot; href=&quot;https://cdn.jsdelivr.net/npm/leaflet@1.6.0/dist/leaflet.css&quot;/&gt;\n    &lt;link rel=&quot;stylesheet&quot; href=&quot;https://maxcdn.bootstrapcdn.com/bootstrap/3.2.0/css/bootstrap.min.css&quot;/&gt;\n    &lt;link rel=&quot;stylesheet&quot; href=&quot;https://maxcdn.bootstrapcdn.com/bootstrap/3.2.0/css/bootstrap-theme.min.css&quot;/&gt;\n    &lt;link rel=&quot;stylesheet&quot; href=&quot;https://maxcdn.bootstrapcdn.com/font-awesome/4.6.3/css/font-awesome.min.css&quot;/&gt;\n    &lt;link rel=&quot;stylesheet&quot; href=&quot;https://cdnjs.cloudflare.com/ajax/libs/Leaflet.awesome-markers/2.0.2/leaflet.awesome-markers.css&quot;/&gt;\n    &lt;link rel=&quot;stylesheet&quot; href=&quot;https://cdn.jsdelivr.net/gh/python-visualization/folium/folium/templates/leaflet.awesome.rotate.min.css&quot;/&gt;\n    \n            &lt;meta name=&quot;viewport&quot; content=&quot;width=device-width,\n                initial-scale=1.0, maximum-scale=1.0, user-scalable=no&quot; /&gt;\n            &lt;style&gt;\n                #map_75e5e87fcd461f61f302fc795de475d8 {\n                    position: relative;\n                    width: 100.0%;\n                    height: 100.0%;\n                    left: 0.0%;\n                    top: 0.0%;\n                }\n            &lt;/style&gt;\n        \n&lt;/head&gt;\n&lt;body&gt;    \n    \n            &lt;div class=&quot;folium-map&quot; id=&quot;map_75e5e87fcd461f61f302fc795de475d8&quot; &gt;&lt;/div&gt;\n        \n&lt;/body&gt;\n&lt;script&gt;    \n    \n            var map_75e5e87fcd461f61f302fc795de475d8 = L.map(\n                &quot;map_75e5e87fcd461f61f302fc795de475d8&quot;,\n                {\n                    center: [29.559684888503615, -95.0830971930759],\n                    crs: L.CRS.EPSG3857,\n                    zoom: 5,\n                    zoomControl: true,\n                    preferCanvas: false,\n                }\n            );\n\n            \n\n        \n    \n            var tile_layer_4d2dbb40909365bdbf5d4f01013db582 = L.tileLayer(\n                &quot;https://{s}.tile.openstreetmap.org/{z}/{x}/{y}.png&quot;,\n                {&quot;attribution&quot;: &quot;Data by \\u0026copy; \\u003ca href=\\&quot;http://openstreetmap.org\\&quot;\\u003eOpenStreetMap\\u003c/a\\u003e, under \\u003ca href=\\&quot;http://www.openstreetmap.org/copyright\\&quot;\\u003eODbL\\u003c/a\\u003e.&quot;, &quot;detectRetina&quot;: false, &quot;maxNativeZoom&quot;: 18, &quot;maxZoom&quot;: 18, &quot;minZoom&quot;: 0, &quot;noWrap&quot;: false, &quot;opacity&quot;: 1, &quot;subdomains&quot;: &quot;abc&quot;, &quot;tms&quot;: false}\n            ).addTo(map_75e5e87fcd461f61f302fc795de475d8);\n        \n    \n            var circle_10515ccf40ded442def824842d766cbe = L.circle(\n                [28.56230197, -80.57735648],\n                {&quot;bubblingMouseEvents&quot;: true, &quot;color&quot;: &quot;#d35400&quot;, &quot;dashArray&quot;: null, &quot;dashOffset&quot;: null, &quot;fill&quot;: true, &quot;fillColor&quot;: &quot;#d35400&quot;, &quot;fillOpacity&quot;: 0.2, &quot;fillRule&quot;: &quot;evenodd&quot;, &quot;lineCap&quot;: &quot;round&quot;, &quot;lineJoin&quot;: &quot;round&quot;, &quot;opacity&quot;: 1.0, &quot;radius&quot;: 1000, &quot;stroke&quot;: true, &quot;weight&quot;: 3}\n            ).addTo(map_75e5e87fcd461f61f302fc795de475d8);\n        \n    \n        var popup_10ec5d1473c360713a22274ebc8050ea = L.popup({&quot;maxWidth&quot;: &quot;100%&quot;});\n\n        \n            var html_38ac02ec6c11613a10a378560528d711 = $(`&lt;div id=&quot;html_38ac02ec6c11613a10a378560528d711&quot; style=&quot;width: 100.0%; height: 100.0%;&quot;&gt;CCAFS LC-40&lt;/div&gt;`)[0];\n            popup_10ec5d1473c360713a22274ebc8050ea.setContent(html_38ac02ec6c11613a10a378560528d711);\n        \n\n        circle_10515ccf40ded442def824842d766cbe.bindPopup(popup_10ec5d1473c360713a22274ebc8050ea)\n        ;\n\n        \n    \n    \n            var marker_3e60013f3a249cc725dfeb512d0afdf5 = L.marker(\n                [28.56230197, -80.57735648],\n                {}\n            ).addTo(map_75e5e87fcd461f61f302fc795de475d8);\n        \n    \n            var div_icon_cdb921c783796e204017b1211b5ef283 = L.divIcon({&quot;className&quot;: &quot;empty&quot;, &quot;html&quot;: &quot;\\u003cdiv style=\\&quot;font-size: 12; color:#d35400;\\&quot;\\u003e\\u003cb\\u003eCCAFS LC-40\\u003c/b\\u003e\\u003c/div\\u003e&quot;, &quot;iconAnchor&quot;: [0, 0], &quot;iconSize&quot;: [20, 20]});\n            marker_3e60013f3a249cc725dfeb512d0afdf5.setIcon(div_icon_cdb921c783796e204017b1211b5ef283);\n        \n    \n            var circle_d4dccdbd252b01d82b32f69fc212d92d = L.circle(\n                [28.56319718, -80.57682003],\n                {&quot;bubblingMouseEvents&quot;: true, &quot;color&quot;: &quot;#d35400&quot;, &quot;dashArray&quot;: null, &quot;dashOffset&quot;: null, &quot;fill&quot;: true, &quot;fillColor&quot;: &quot;#d35400&quot;, &quot;fillOpacity&quot;: 0.2, &quot;fillRule&quot;: &quot;evenodd&quot;, &quot;lineCap&quot;: &quot;round&quot;, &quot;lineJoin&quot;: &quot;round&quot;, &quot;opacity&quot;: 1.0, &quot;radius&quot;: 1000, &quot;stroke&quot;: true, &quot;weight&quot;: 3}\n            ).addTo(map_75e5e87fcd461f61f302fc795de475d8);\n        \n    \n        var popup_c4e38f6f76bd34b0455ee89fc5fe77bd = L.popup({&quot;maxWidth&quot;: &quot;100%&quot;});\n\n        \n            var html_3c4466e48c0d63965da04f86897bb2b8 = $(`&lt;div id=&quot;html_3c4466e48c0d63965da04f86897bb2b8&quot; style=&quot;width: 100.0%; height: 100.0%;&quot;&gt;CCAFS SLC-40&lt;/div&gt;`)[0];\n            popup_c4e38f6f76bd34b0455ee89fc5fe77bd.setContent(html_3c4466e48c0d63965da04f86897bb2b8);\n        \n\n        circle_d4dccdbd252b01d82b32f69fc212d92d.bindPopup(popup_c4e38f6f76bd34b0455ee89fc5fe77bd)\n        ;\n\n        \n    \n    \n            var marker_483a3f77bf2ef72c49865656b493478d = L.marker(\n                [28.56319718, -80.57682003],\n                {}\n            ).addTo(map_75e5e87fcd461f61f302fc795de475d8);\n        \n    \n            var div_icon_e8f5df1a241b9dd1e5a63e200088886c = L.divIcon({&quot;className&quot;: &quot;empty&quot;, &quot;html&quot;: &quot;\\u003cdiv style=\\&quot;font-size: 12; color:#d35400;\\&quot;\\u003e\\u003cb\\u003eCCAFS SLC-40\\u003c/b\\u003e\\u003c/div\\u003e&quot;, &quot;iconAnchor&quot;: [0, 0], &quot;iconSize&quot;: [20, 20]});\n            marker_483a3f77bf2ef72c49865656b493478d.setIcon(div_icon_e8f5df1a241b9dd1e5a63e200088886c);\n        \n    \n            var circle_a6bd212ca9e985b15bc0f7f1642bb98c = L.circle(\n                [28.57325457, -80.64689529],\n                {&quot;bubblingMouseEvents&quot;: true, &quot;color&quot;: &quot;#d35400&quot;, &quot;dashArray&quot;: null, &quot;dashOffset&quot;: null, &quot;fill&quot;: true, &quot;fillColor&quot;: &quot;#d35400&quot;, &quot;fillOpacity&quot;: 0.2, &quot;fillRule&quot;: &quot;evenodd&quot;, &quot;lineCap&quot;: &quot;round&quot;, &quot;lineJoin&quot;: &quot;round&quot;, &quot;opacity&quot;: 1.0, &quot;radius&quot;: 1000, &quot;stroke&quot;: true, &quot;weight&quot;: 3}\n            ).addTo(map_75e5e87fcd461f61f302fc795de475d8);\n        \n    \n        var popup_5cc6bd75d7fd00413f85f1d0e0229843 = L.popup({&quot;maxWidth&quot;: &quot;100%&quot;});\n\n        \n            var html_19cb18e7f45fd50b1f98ff4db22adb79 = $(`&lt;div id=&quot;html_19cb18e7f45fd50b1f98ff4db22adb79&quot; style=&quot;width: 100.0%; height: 100.0%;&quot;&gt;KSC LC-39A&lt;/div&gt;`)[0];\n            popup_5cc6bd75d7fd00413f85f1d0e0229843.setContent(html_19cb18e7f45fd50b1f98ff4db22adb79);\n        \n\n        circle_a6bd212ca9e985b15bc0f7f1642bb98c.bindPopup(popup_5cc6bd75d7fd00413f85f1d0e0229843)\n        ;\n\n        \n    \n    \n            var marker_f7067f8b59d763eef7b12574222cdfd1 = L.marker(\n                [28.57325457, -80.64689529],\n                {}\n            ).addTo(map_75e5e87fcd461f61f302fc795de475d8);\n        \n    \n            var div_icon_994ac034937271b19f44bc3fd0f4c048 = L.divIcon({&quot;className&quot;: &quot;empty&quot;, &quot;html&quot;: &quot;\\u003cdiv style=\\&quot;font-size: 12; color:#d35400;\\&quot;\\u003e\\u003cb\\u003eKSC LC-39A\\u003c/b\\u003e\\u003c/div\\u003e&quot;, &quot;iconAnchor&quot;: [0, 0], &quot;iconSize&quot;: [20, 20]});\n            marker_f7067f8b59d763eef7b12574222cdfd1.setIcon(div_icon_994ac034937271b19f44bc3fd0f4c048);\n        \n    \n            var circle_d6ea12dfda52dbc8f1db8514aa33a0a5 = L.circle(\n                [34.63283416, -120.6107455],\n                {&quot;bubblingMouseEvents&quot;: true, &quot;color&quot;: &quot;#d35400&quot;, &quot;dashArray&quot;: null, &quot;dashOffset&quot;: null, &quot;fill&quot;: true, &quot;fillColor&quot;: &quot;#d35400&quot;, &quot;fillOpacity&quot;: 0.2, &quot;fillRule&quot;: &quot;evenodd&quot;, &quot;lineCap&quot;: &quot;round&quot;, &quot;lineJoin&quot;: &quot;round&quot;, &quot;opacity&quot;: 1.0, &quot;radius&quot;: 1000, &quot;stroke&quot;: true, &quot;weight&quot;: 3}\n            ).addTo(map_75e5e87fcd461f61f302fc795de475d8);\n        \n    \n        var popup_d8e05092aa48a191a83d05c30c8f5129 = L.popup({&quot;maxWidth&quot;: &quot;100%&quot;});\n\n        \n            var html_c7614baa58b8635a26eccfe67b5b9e6f = $(`&lt;div id=&quot;html_c7614baa58b8635a26eccfe67b5b9e6f&quot; style=&quot;width: 100.0%; height: 100.0%;&quot;&gt;VAFB SLC-4E&lt;/div&gt;`)[0];\n            popup_d8e05092aa48a191a83d05c30c8f5129.setContent(html_c7614baa58b8635a26eccfe67b5b9e6f);\n        \n\n        circle_d6ea12dfda52dbc8f1db8514aa33a0a5.bindPopup(popup_d8e05092aa48a191a83d05c30c8f5129)\n        ;\n\n        \n    \n    \n            var marker_9da8a2f3772d69493552d527bc839b75 = L.marker(\n                [34.63283416, -120.6107455],\n                {}\n            ).addTo(map_75e5e87fcd461f61f302fc795de475d8);\n        \n    \n            var div_icon_e728e59ef8b9921ea041b70cc2248d58 = L.divIcon({&quot;className&quot;: &quot;empty&quot;, &quot;html&quot;: &quot;\\u003cdiv style=\\&quot;font-size: 12; color:#d35400;\\&quot;\\u003e\\u003cb\\u003eVAFB SLC-4E\\u003c/b\\u003e\\u003c/div\\u003e&quot;, &quot;iconAnchor&quot;: [0, 0], &quot;iconSize&quot;: [20, 20]});\n            marker_9da8a2f3772d69493552d527bc839b75.setIcon(div_icon_e728e59ef8b9921ea041b70cc2248d58);\n        \n&lt;/script&gt;\" style=\"position:absolute;width:100%;height:100%;left:0;top:0;border:none !important;\" allowfullscreen webkitallowfullscreen mozallowfullscreen></iframe></div></div>"
          },
          "metadata": {}
        }
      ]
    },
    {
      "metadata": {
        "id": "eVxJBFrXTdWv"
      },
      "cell_type": "markdown",
      "source": [
        "The generated map with marked launch sites should look similar to the following:\n"
      ]
    },
    {
      "metadata": {
        "id": "-9aH5z_RTdWw"
      },
      "cell_type": "markdown",
      "source": [
        "<center>\n",
        "    <img src=\"https://cf-courses-data.s3.us.cloud-object-storage.appdomain.cloud/IBM-DS0321EN-SkillsNetwork/labs/module_3/images/launch_site_markers.png\" />\n",
        "</center>\n"
      ]
    },
    {
      "metadata": {
        "id": "BfY1lwGHTdWw"
      },
      "cell_type": "markdown",
      "source": [
        "Now, you can explore the map by zoom-in/out the marked areas\n",
        ", and try to answer the following questions:\n",
        "\n",
        "*   Are all launch sites in proximity to the Equator line?\n",
        "*   Are all launch sites in very close proximity to the coast?\n",
        "\n",
        "Also please try to explain your findings.\n"
      ]
    },
    {
      "metadata": {
        "id": "U7NwfBIMTdWw"
      },
      "cell_type": "markdown",
      "source": [
        "# Task 2: Mark the success/failed launches for each site on the map\n"
      ]
    },
    {
      "metadata": {
        "id": "KOZ1zLN1TdWw"
      },
      "cell_type": "markdown",
      "source": [
        "Next, let's try to enhance the map by adding the launch outcomes for each site, and see which sites have high success rates.\n",
        "Recall that data frame spacex_df has detailed launch records, and the `class` column indicates if this launch was successful or not\n"
      ]
    },
    {
      "metadata": {
        "id": "dWDa8P_ATdWw",
        "outputId": "2ba9de8a-46fd-42c7-c2fc-c836aeb44ef7"
      },
      "cell_type": "code",
      "source": [
        "spacex_df.tail(10)"
      ],
      "execution_count": null,
      "outputs": [
        {
          "output_type": "execute_result",
          "execution_count": 16,
          "data": {
            "text/plain": "     Launch Site        Lat       Long  class\n46    KSC LC-39A  28.573255 -80.646895      1\n47    KSC LC-39A  28.573255 -80.646895      1\n48    KSC LC-39A  28.573255 -80.646895      1\n49  CCAFS SLC-40  28.563197 -80.576820      1\n50  CCAFS SLC-40  28.563197 -80.576820      1\n51  CCAFS SLC-40  28.563197 -80.576820      0\n52  CCAFS SLC-40  28.563197 -80.576820      0\n53  CCAFS SLC-40  28.563197 -80.576820      0\n54  CCAFS SLC-40  28.563197 -80.576820      1\n55  CCAFS SLC-40  28.563197 -80.576820      0",
            "text/html": "<div>\n<style scoped>\n    .dataframe tbody tr th:only-of-type {\n        vertical-align: middle;\n    }\n\n    .dataframe tbody tr th {\n        vertical-align: top;\n    }\n\n    .dataframe thead th {\n        text-align: right;\n    }\n</style>\n<table border=\"1\" class=\"dataframe\">\n  <thead>\n    <tr style=\"text-align: right;\">\n      <th></th>\n      <th>Launch Site</th>\n      <th>Lat</th>\n      <th>Long</th>\n      <th>class</th>\n    </tr>\n  </thead>\n  <tbody>\n    <tr>\n      <th>46</th>\n      <td>KSC LC-39A</td>\n      <td>28.573255</td>\n      <td>-80.646895</td>\n      <td>1</td>\n    </tr>\n    <tr>\n      <th>47</th>\n      <td>KSC LC-39A</td>\n      <td>28.573255</td>\n      <td>-80.646895</td>\n      <td>1</td>\n    </tr>\n    <tr>\n      <th>48</th>\n      <td>KSC LC-39A</td>\n      <td>28.573255</td>\n      <td>-80.646895</td>\n      <td>1</td>\n    </tr>\n    <tr>\n      <th>49</th>\n      <td>CCAFS SLC-40</td>\n      <td>28.563197</td>\n      <td>-80.576820</td>\n      <td>1</td>\n    </tr>\n    <tr>\n      <th>50</th>\n      <td>CCAFS SLC-40</td>\n      <td>28.563197</td>\n      <td>-80.576820</td>\n      <td>1</td>\n    </tr>\n    <tr>\n      <th>51</th>\n      <td>CCAFS SLC-40</td>\n      <td>28.563197</td>\n      <td>-80.576820</td>\n      <td>0</td>\n    </tr>\n    <tr>\n      <th>52</th>\n      <td>CCAFS SLC-40</td>\n      <td>28.563197</td>\n      <td>-80.576820</td>\n      <td>0</td>\n    </tr>\n    <tr>\n      <th>53</th>\n      <td>CCAFS SLC-40</td>\n      <td>28.563197</td>\n      <td>-80.576820</td>\n      <td>0</td>\n    </tr>\n    <tr>\n      <th>54</th>\n      <td>CCAFS SLC-40</td>\n      <td>28.563197</td>\n      <td>-80.576820</td>\n      <td>1</td>\n    </tr>\n    <tr>\n      <th>55</th>\n      <td>CCAFS SLC-40</td>\n      <td>28.563197</td>\n      <td>-80.576820</td>\n      <td>0</td>\n    </tr>\n  </tbody>\n</table>\n</div>"
          },
          "metadata": {}
        }
      ]
    },
    {
      "metadata": {
        "id": "HdXmkrZjTdWx"
      },
      "cell_type": "markdown",
      "source": [
        "Next, let's create markers for all launch records.\n",
        "If a launch was successful `(class=1)`, then we use a green marker and if a launch was failed, we use a red marker `(class=0)`\n"
      ]
    },
    {
      "metadata": {
        "id": "Sf-sj3HWTdWx"
      },
      "cell_type": "markdown",
      "source": [
        "Note that a launch only happens in one of the four launch sites, which means many launch records will have the exact same coordinate. Marker clusters can be a good way to simplify a map containing many markers having the same coordinate.\n"
      ]
    },
    {
      "metadata": {
        "id": "nhUiPpNxTdWx"
      },
      "cell_type": "markdown",
      "source": [
        "Let's first create a `MarkerCluster` object\n"
      ]
    },
    {
      "metadata": {
        "id": "wP9PVUZ7Jfjt",
        "papermill": {
          "duration": 0.904519,
          "end_time": "2020-09-19T06:27:38.357041",
          "exception": false,
          "start_time": "2020-09-19T06:27:37.452522",
          "status": "completed"
        },
        "tags": []
      },
      "cell_type": "code",
      "source": [
        "marker_cluster = MarkerCluster()\n"
      ],
      "execution_count": null,
      "outputs": []
    },
    {
      "metadata": {
        "id": "3CGfKg_-TdWx"
      },
      "cell_type": "markdown",
      "source": [
        "*TODO:* Create a new column in `launch_sites` dataframe called `marker_color` to store the marker colors based on the `class` value\n"
      ]
    },
    {
      "metadata": {
        "id": "67lowBNOTdWx"
      },
      "cell_type": "code",
      "source": [
        "\n",
        "# Apply a function to check the value of `class` column\n",
        "# If class=1, marker_color value will be green\n",
        "# If class=0, marker_color value will be red"
      ],
      "execution_count": null,
      "outputs": []
    },
    {
      "metadata": {
        "id": "Ttg1XVQPTdWy",
        "outputId": "c6cd9115-06d2-4c66-9615-33c2a7ef89f8"
      },
      "cell_type": "code",
      "source": [
        "# Function to assign color to launch outcome\n",
        "def assign_marker_color(launch_outcome):\n",
        "    if launch_outcome == 1:\n",
        "        return 'green'\n",
        "    else:\n",
        "        return 'red'\n",
        "    \n",
        "spacex_df['marker_color'] = spacex_df['class'].apply(assign_marker_color)\n",
        "spacex_df.tail(10)"
      ],
      "execution_count": null,
      "outputs": [
        {
          "output_type": "execute_result",
          "execution_count": 18,
          "data": {
            "text/plain": "     Launch Site        Lat       Long  class marker_color\n46    KSC LC-39A  28.573255 -80.646895      1        green\n47    KSC LC-39A  28.573255 -80.646895      1        green\n48    KSC LC-39A  28.573255 -80.646895      1        green\n49  CCAFS SLC-40  28.563197 -80.576820      1        green\n50  CCAFS SLC-40  28.563197 -80.576820      1        green\n51  CCAFS SLC-40  28.563197 -80.576820      0          red\n52  CCAFS SLC-40  28.563197 -80.576820      0          red\n53  CCAFS SLC-40  28.563197 -80.576820      0          red\n54  CCAFS SLC-40  28.563197 -80.576820      1        green\n55  CCAFS SLC-40  28.563197 -80.576820      0          red",
            "text/html": "<div>\n<style scoped>\n    .dataframe tbody tr th:only-of-type {\n        vertical-align: middle;\n    }\n\n    .dataframe tbody tr th {\n        vertical-align: top;\n    }\n\n    .dataframe thead th {\n        text-align: right;\n    }\n</style>\n<table border=\"1\" class=\"dataframe\">\n  <thead>\n    <tr style=\"text-align: right;\">\n      <th></th>\n      <th>Launch Site</th>\n      <th>Lat</th>\n      <th>Long</th>\n      <th>class</th>\n      <th>marker_color</th>\n    </tr>\n  </thead>\n  <tbody>\n    <tr>\n      <th>46</th>\n      <td>KSC LC-39A</td>\n      <td>28.573255</td>\n      <td>-80.646895</td>\n      <td>1</td>\n      <td>green</td>\n    </tr>\n    <tr>\n      <th>47</th>\n      <td>KSC LC-39A</td>\n      <td>28.573255</td>\n      <td>-80.646895</td>\n      <td>1</td>\n      <td>green</td>\n    </tr>\n    <tr>\n      <th>48</th>\n      <td>KSC LC-39A</td>\n      <td>28.573255</td>\n      <td>-80.646895</td>\n      <td>1</td>\n      <td>green</td>\n    </tr>\n    <tr>\n      <th>49</th>\n      <td>CCAFS SLC-40</td>\n      <td>28.563197</td>\n      <td>-80.576820</td>\n      <td>1</td>\n      <td>green</td>\n    </tr>\n    <tr>\n      <th>50</th>\n      <td>CCAFS SLC-40</td>\n      <td>28.563197</td>\n      <td>-80.576820</td>\n      <td>1</td>\n      <td>green</td>\n    </tr>\n    <tr>\n      <th>51</th>\n      <td>CCAFS SLC-40</td>\n      <td>28.563197</td>\n      <td>-80.576820</td>\n      <td>0</td>\n      <td>red</td>\n    </tr>\n    <tr>\n      <th>52</th>\n      <td>CCAFS SLC-40</td>\n      <td>28.563197</td>\n      <td>-80.576820</td>\n      <td>0</td>\n      <td>red</td>\n    </tr>\n    <tr>\n      <th>53</th>\n      <td>CCAFS SLC-40</td>\n      <td>28.563197</td>\n      <td>-80.576820</td>\n      <td>0</td>\n      <td>red</td>\n    </tr>\n    <tr>\n      <th>54</th>\n      <td>CCAFS SLC-40</td>\n      <td>28.563197</td>\n      <td>-80.576820</td>\n      <td>1</td>\n      <td>green</td>\n    </tr>\n    <tr>\n      <th>55</th>\n      <td>CCAFS SLC-40</td>\n      <td>28.563197</td>\n      <td>-80.576820</td>\n      <td>0</td>\n      <td>red</td>\n    </tr>\n  </tbody>\n</table>\n</div>"
          },
          "metadata": {}
        }
      ]
    },
    {
      "metadata": {
        "id": "c0yQQ_vsTdWy"
      },
      "cell_type": "markdown",
      "source": [
        "*TODO:* For each launch result in `spacex_df` data frame, add a `folium.Marker` to `marker_cluster`\n"
      ]
    },
    {
      "metadata": {
        "id": "QAY8Q23vTdWy",
        "outputId": "6c060277-0b3c-4663-b115-721c6589fcb8"
      },
      "cell_type": "code",
      "source": [
        "# Add marker_cluster to current site_map\n",
        "site_map.add_child(marker_cluster)\n",
        "\n",
        "# for each row in spacex_df data frame\n",
        "# create a Marker object with its coordinate\n",
        "# and customize the Marker's icon property to indicate if this launch was successed or failed, \n",
        "# e.g., icon=folium.Icon(color='white', icon_color=row['marker_color']\n",
        "\n",
        "for index, record in spacex_df.iterrows():\n",
        "#     # TODO: Create and add a Marker cluster to the site map\n",
        "#     # marker = folium.Marker(...)\n",
        "    icon=folium.Icon(color='white', icon_color=record['marker_color'])\n",
        "    marker=folium.map.Marker(\n",
        "        location=[record['Lat'], record['Long']],\n",
        "        icon=icon\n",
        "    )\n",
        "    marker_cluster.add_child(marker)\n",
        "\n",
        "site_map"
      ],
      "execution_count": null,
      "outputs": [
        {
          "output_type": "execute_result",
          "execution_count": 34,
          "data": {
            "text/plain": "<folium.folium.Map at 0x7f215baa0df0>",
            "text/html": "<div style=\"width:100%;\"><div style=\"position:relative;width:100%;height:0;padding-bottom:60%;\"><span style=\"color:#565656\">Make this Notebook Trusted to load map: File -> Trust Notebook</span><iframe srcdoc=\"&lt;!DOCTYPE html&gt;\n&lt;head&gt;    \n    &lt;meta http-equiv=&quot;content-type&quot; content=&quot;text/html; charset=UTF-8&quot; /&gt;\n    \n        &lt;script&gt;\n            L_NO_TOUCH = false;\n            L_DISABLE_3D = false;\n        &lt;/script&gt;\n    \n    &lt;style&gt;html, body {width: 100%;height: 100%;margin: 0;padding: 0;}&lt;/style&gt;\n    &lt;style&gt;#map {position:absolute;top:0;bottom:0;right:0;left:0;}&lt;/style&gt;\n    &lt;script src=&quot;https://cdn.jsdelivr.net/npm/leaflet@1.6.0/dist/leaflet.js&quot;&gt;&lt;/script&gt;\n    &lt;script src=&quot;https://code.jquery.com/jquery-1.12.4.min.js&quot;&gt;&lt;/script&gt;\n    &lt;script src=&quot;https://maxcdn.bootstrapcdn.com/bootstrap/3.2.0/js/bootstrap.min.js&quot;&gt;&lt;/script&gt;\n    &lt;script src=&quot;https://cdnjs.cloudflare.com/ajax/libs/Leaflet.awesome-markers/2.0.2/leaflet.awesome-markers.js&quot;&gt;&lt;/script&gt;\n    &lt;link rel=&quot;stylesheet&quot; href=&quot;https://cdn.jsdelivr.net/npm/leaflet@1.6.0/dist/leaflet.css&quot;/&gt;\n    &lt;link rel=&quot;stylesheet&quot; href=&quot;https://maxcdn.bootstrapcdn.com/bootstrap/3.2.0/css/bootstrap.min.css&quot;/&gt;\n    &lt;link rel=&quot;stylesheet&quot; href=&quot;https://maxcdn.bootstrapcdn.com/bootstrap/3.2.0/css/bootstrap-theme.min.css&quot;/&gt;\n    &lt;link rel=&quot;stylesheet&quot; href=&quot;https://maxcdn.bootstrapcdn.com/font-awesome/4.6.3/css/font-awesome.min.css&quot;/&gt;\n    &lt;link rel=&quot;stylesheet&quot; href=&quot;https://cdnjs.cloudflare.com/ajax/libs/Leaflet.awesome-markers/2.0.2/leaflet.awesome-markers.css&quot;/&gt;\n    &lt;link rel=&quot;stylesheet&quot; href=&quot;https://cdn.jsdelivr.net/gh/python-visualization/folium/folium/templates/leaflet.awesome.rotate.min.css&quot;/&gt;\n    \n            &lt;meta name=&quot;viewport&quot; content=&quot;width=device-width,\n                initial-scale=1.0, maximum-scale=1.0, user-scalable=no&quot; /&gt;\n            &lt;style&gt;\n                #map_75e5e87fcd461f61f302fc795de475d8 {\n                    position: relative;\n                    width: 100.0%;\n                    height: 100.0%;\n                    left: 0.0%;\n                    top: 0.0%;\n                }\n            &lt;/style&gt;\n        \n    &lt;script src=&quot;https://cdnjs.cloudflare.com/ajax/libs/leaflet.markercluster/1.1.0/leaflet.markercluster.js&quot;&gt;&lt;/script&gt;\n    &lt;link rel=&quot;stylesheet&quot; href=&quot;https://cdnjs.cloudflare.com/ajax/libs/leaflet.markercluster/1.1.0/MarkerCluster.css&quot;/&gt;\n    &lt;link rel=&quot;stylesheet&quot; href=&quot;https://cdnjs.cloudflare.com/ajax/libs/leaflet.markercluster/1.1.0/MarkerCluster.Default.css&quot;/&gt;\n&lt;/head&gt;\n&lt;body&gt;    \n    \n            &lt;div class=&quot;folium-map&quot; id=&quot;map_75e5e87fcd461f61f302fc795de475d8&quot; &gt;&lt;/div&gt;\n        \n&lt;/body&gt;\n&lt;script&gt;    \n    \n            var map_75e5e87fcd461f61f302fc795de475d8 = L.map(\n                &quot;map_75e5e87fcd461f61f302fc795de475d8&quot;,\n                {\n                    center: [29.559684888503615, -95.0830971930759],\n                    crs: L.CRS.EPSG3857,\n                    zoom: 5,\n                    zoomControl: true,\n                    preferCanvas: false,\n                }\n            );\n\n            \n\n        \n    \n            var tile_layer_4d2dbb40909365bdbf5d4f01013db582 = L.tileLayer(\n                &quot;https://{s}.tile.openstreetmap.org/{z}/{x}/{y}.png&quot;,\n                {&quot;attribution&quot;: &quot;Data by \\u0026copy; \\u003ca href=\\&quot;http://openstreetmap.org\\&quot;\\u003eOpenStreetMap\\u003c/a\\u003e, under \\u003ca href=\\&quot;http://www.openstreetmap.org/copyright\\&quot;\\u003eODbL\\u003c/a\\u003e.&quot;, &quot;detectRetina&quot;: false, &quot;maxNativeZoom&quot;: 18, &quot;maxZoom&quot;: 18, &quot;minZoom&quot;: 0, &quot;noWrap&quot;: false, &quot;opacity&quot;: 1, &quot;subdomains&quot;: &quot;abc&quot;, &quot;tms&quot;: false}\n            ).addTo(map_75e5e87fcd461f61f302fc795de475d8);\n        \n    \n            var circle_10515ccf40ded442def824842d766cbe = L.circle(\n                [28.56230197, -80.57735648],\n                {&quot;bubblingMouseEvents&quot;: true, &quot;color&quot;: &quot;#d35400&quot;, &quot;dashArray&quot;: null, &quot;dashOffset&quot;: null, &quot;fill&quot;: true, &quot;fillColor&quot;: &quot;#d35400&quot;, &quot;fillOpacity&quot;: 0.2, &quot;fillRule&quot;: &quot;evenodd&quot;, &quot;lineCap&quot;: &quot;round&quot;, &quot;lineJoin&quot;: &quot;round&quot;, &quot;opacity&quot;: 1.0, &quot;radius&quot;: 1000, &quot;stroke&quot;: true, &quot;weight&quot;: 3}\n            ).addTo(map_75e5e87fcd461f61f302fc795de475d8);\n        \n    \n        var popup_10ec5d1473c360713a22274ebc8050ea = L.popup({&quot;maxWidth&quot;: &quot;100%&quot;});\n\n        \n            var html_38ac02ec6c11613a10a378560528d711 = $(`&lt;div id=&quot;html_38ac02ec6c11613a10a378560528d711&quot; style=&quot;width: 100.0%; height: 100.0%;&quot;&gt;CCAFS LC-40&lt;/div&gt;`)[0];\n            popup_10ec5d1473c360713a22274ebc8050ea.setContent(html_38ac02ec6c11613a10a378560528d711);\n        \n\n        circle_10515ccf40ded442def824842d766cbe.bindPopup(popup_10ec5d1473c360713a22274ebc8050ea)\n        ;\n\n        \n    \n    \n            var marker_3e60013f3a249cc725dfeb512d0afdf5 = L.marker(\n                [28.56230197, -80.57735648],\n                {}\n            ).addTo(map_75e5e87fcd461f61f302fc795de475d8);\n        \n    \n            var div_icon_cdb921c783796e204017b1211b5ef283 = L.divIcon({&quot;className&quot;: &quot;empty&quot;, &quot;html&quot;: &quot;\\u003cdiv style=\\&quot;font-size: 12; color:#d35400;\\&quot;\\u003e\\u003cb\\u003eCCAFS LC-40\\u003c/b\\u003e\\u003c/div\\u003e&quot;, &quot;iconAnchor&quot;: [0, 0], &quot;iconSize&quot;: [20, 20]});\n            marker_3e60013f3a249cc725dfeb512d0afdf5.setIcon(div_icon_cdb921c783796e204017b1211b5ef283);\n        \n    \n            var circle_d4dccdbd252b01d82b32f69fc212d92d = L.circle(\n                [28.56319718, -80.57682003],\n                {&quot;bubblingMouseEvents&quot;: true, &quot;color&quot;: &quot;#d35400&quot;, &quot;dashArray&quot;: null, &quot;dashOffset&quot;: null, &quot;fill&quot;: true, &quot;fillColor&quot;: &quot;#d35400&quot;, &quot;fillOpacity&quot;: 0.2, &quot;fillRule&quot;: &quot;evenodd&quot;, &quot;lineCap&quot;: &quot;round&quot;, &quot;lineJoin&quot;: &quot;round&quot;, &quot;opacity&quot;: 1.0, &quot;radius&quot;: 1000, &quot;stroke&quot;: true, &quot;weight&quot;: 3}\n            ).addTo(map_75e5e87fcd461f61f302fc795de475d8);\n        \n    \n        var popup_c4e38f6f76bd34b0455ee89fc5fe77bd = L.popup({&quot;maxWidth&quot;: &quot;100%&quot;});\n\n        \n            var html_3c4466e48c0d63965da04f86897bb2b8 = $(`&lt;div id=&quot;html_3c4466e48c0d63965da04f86897bb2b8&quot; style=&quot;width: 100.0%; height: 100.0%;&quot;&gt;CCAFS SLC-40&lt;/div&gt;`)[0];\n            popup_c4e38f6f76bd34b0455ee89fc5fe77bd.setContent(html_3c4466e48c0d63965da04f86897bb2b8);\n        \n\n        circle_d4dccdbd252b01d82b32f69fc212d92d.bindPopup(popup_c4e38f6f76bd34b0455ee89fc5fe77bd)\n        ;\n\n        \n    \n    \n            var marker_483a3f77bf2ef72c49865656b493478d = L.marker(\n                [28.56319718, -80.57682003],\n                {}\n            ).addTo(map_75e5e87fcd461f61f302fc795de475d8);\n        \n    \n            var div_icon_e8f5df1a241b9dd1e5a63e200088886c = L.divIcon({&quot;className&quot;: &quot;empty&quot;, &quot;html&quot;: &quot;\\u003cdiv style=\\&quot;font-size: 12; color:#d35400;\\&quot;\\u003e\\u003cb\\u003eCCAFS SLC-40\\u003c/b\\u003e\\u003c/div\\u003e&quot;, &quot;iconAnchor&quot;: [0, 0], &quot;iconSize&quot;: [20, 20]});\n            marker_483a3f77bf2ef72c49865656b493478d.setIcon(div_icon_e8f5df1a241b9dd1e5a63e200088886c);\n        \n    \n            var circle_a6bd212ca9e985b15bc0f7f1642bb98c = L.circle(\n                [28.57325457, -80.64689529],\n                {&quot;bubblingMouseEvents&quot;: true, &quot;color&quot;: &quot;#d35400&quot;, &quot;dashArray&quot;: null, &quot;dashOffset&quot;: null, &quot;fill&quot;: true, &quot;fillColor&quot;: &quot;#d35400&quot;, &quot;fillOpacity&quot;: 0.2, &quot;fillRule&quot;: &quot;evenodd&quot;, &quot;lineCap&quot;: &quot;round&quot;, &quot;lineJoin&quot;: &quot;round&quot;, &quot;opacity&quot;: 1.0, &quot;radius&quot;: 1000, &quot;stroke&quot;: true, &quot;weight&quot;: 3}\n            ).addTo(map_75e5e87fcd461f61f302fc795de475d8);\n        \n    \n        var popup_5cc6bd75d7fd00413f85f1d0e0229843 = L.popup({&quot;maxWidth&quot;: &quot;100%&quot;});\n\n        \n            var html_19cb18e7f45fd50b1f98ff4db22adb79 = $(`&lt;div id=&quot;html_19cb18e7f45fd50b1f98ff4db22adb79&quot; style=&quot;width: 100.0%; height: 100.0%;&quot;&gt;KSC LC-39A&lt;/div&gt;`)[0];\n            popup_5cc6bd75d7fd00413f85f1d0e0229843.setContent(html_19cb18e7f45fd50b1f98ff4db22adb79);\n        \n\n        circle_a6bd212ca9e985b15bc0f7f1642bb98c.bindPopup(popup_5cc6bd75d7fd00413f85f1d0e0229843)\n        ;\n\n        \n    \n    \n            var marker_f7067f8b59d763eef7b12574222cdfd1 = L.marker(\n                [28.57325457, -80.64689529],\n                {}\n            ).addTo(map_75e5e87fcd461f61f302fc795de475d8);\n        \n    \n            var div_icon_994ac034937271b19f44bc3fd0f4c048 = L.divIcon({&quot;className&quot;: &quot;empty&quot;, &quot;html&quot;: &quot;\\u003cdiv style=\\&quot;font-size: 12; color:#d35400;\\&quot;\\u003e\\u003cb\\u003eKSC LC-39A\\u003c/b\\u003e\\u003c/div\\u003e&quot;, &quot;iconAnchor&quot;: [0, 0], &quot;iconSize&quot;: [20, 20]});\n            marker_f7067f8b59d763eef7b12574222cdfd1.setIcon(div_icon_994ac034937271b19f44bc3fd0f4c048);\n        \n    \n            var circle_d6ea12dfda52dbc8f1db8514aa33a0a5 = L.circle(\n                [34.63283416, -120.6107455],\n                {&quot;bubblingMouseEvents&quot;: true, &quot;color&quot;: &quot;#d35400&quot;, &quot;dashArray&quot;: null, &quot;dashOffset&quot;: null, &quot;fill&quot;: true, &quot;fillColor&quot;: &quot;#d35400&quot;, &quot;fillOpacity&quot;: 0.2, &quot;fillRule&quot;: &quot;evenodd&quot;, &quot;lineCap&quot;: &quot;round&quot;, &quot;lineJoin&quot;: &quot;round&quot;, &quot;opacity&quot;: 1.0, &quot;radius&quot;: 1000, &quot;stroke&quot;: true, &quot;weight&quot;: 3}\n            ).addTo(map_75e5e87fcd461f61f302fc795de475d8);\n        \n    \n        var popup_d8e05092aa48a191a83d05c30c8f5129 = L.popup({&quot;maxWidth&quot;: &quot;100%&quot;});\n\n        \n            var html_c7614baa58b8635a26eccfe67b5b9e6f = $(`&lt;div id=&quot;html_c7614baa58b8635a26eccfe67b5b9e6f&quot; style=&quot;width: 100.0%; height: 100.0%;&quot;&gt;VAFB SLC-4E&lt;/div&gt;`)[0];\n            popup_d8e05092aa48a191a83d05c30c8f5129.setContent(html_c7614baa58b8635a26eccfe67b5b9e6f);\n        \n\n        circle_d6ea12dfda52dbc8f1db8514aa33a0a5.bindPopup(popup_d8e05092aa48a191a83d05c30c8f5129)\n        ;\n\n        \n    \n    \n            var marker_9da8a2f3772d69493552d527bc839b75 = L.marker(\n                [34.63283416, -120.6107455],\n                {}\n            ).addTo(map_75e5e87fcd461f61f302fc795de475d8);\n        \n    \n            var div_icon_e728e59ef8b9921ea041b70cc2248d58 = L.divIcon({&quot;className&quot;: &quot;empty&quot;, &quot;html&quot;: &quot;\\u003cdiv style=\\&quot;font-size: 12; color:#d35400;\\&quot;\\u003e\\u003cb\\u003eVAFB SLC-4E\\u003c/b\\u003e\\u003c/div\\u003e&quot;, &quot;iconAnchor&quot;: [0, 0], &quot;iconSize&quot;: [20, 20]});\n            marker_9da8a2f3772d69493552d527bc839b75.setIcon(div_icon_e728e59ef8b9921ea041b70cc2248d58);\n        \n    \n            var marker_cluster_c8a2ebd8e84cceae7ca9424f691782be = L.markerClusterGroup(\n                {}\n            );\n            map_75e5e87fcd461f61f302fc795de475d8.addLayer(marker_cluster_c8a2ebd8e84cceae7ca9424f691782be);\n        \n    \n            var marker_ae2c0dce61bda5ad53a36e1b822781e1 = L.marker(\n                [28.56230197, -80.57735648],\n                {}\n            ).addTo(marker_cluster_c8a2ebd8e84cceae7ca9424f691782be);\n        \n    \n            var icon_a6c79200603d76e42ba2099340021774 = L.AwesomeMarkers.icon(\n                {&quot;extraClasses&quot;: &quot;fa-rotate-0&quot;, &quot;icon&quot;: &quot;info-sign&quot;, &quot;iconColor&quot;: &quot;red&quot;, &quot;markerColor&quot;: &quot;white&quot;, &quot;prefix&quot;: &quot;glyphicon&quot;}\n            );\n            marker_ae2c0dce61bda5ad53a36e1b822781e1.setIcon(icon_a6c79200603d76e42ba2099340021774);\n        \n    \n            var marker_a18fefb1e28e7d847eeacead3ae1d6b9 = L.marker(\n                [28.56230197, -80.57735648],\n                {}\n            ).addTo(marker_cluster_c8a2ebd8e84cceae7ca9424f691782be);\n        \n    \n            var icon_bace74ef641780e24a496e3cbc0737b4 = L.AwesomeMarkers.icon(\n                {&quot;extraClasses&quot;: &quot;fa-rotate-0&quot;, &quot;icon&quot;: &quot;info-sign&quot;, &quot;iconColor&quot;: &quot;red&quot;, &quot;markerColor&quot;: &quot;white&quot;, &quot;prefix&quot;: &quot;glyphicon&quot;}\n            );\n            marker_a18fefb1e28e7d847eeacead3ae1d6b9.setIcon(icon_bace74ef641780e24a496e3cbc0737b4);\n        \n    \n            var marker_6b3f7701004b3c74ccf681ccbda2b14b = L.marker(\n                [28.56230197, -80.57735648],\n                {}\n            ).addTo(marker_cluster_c8a2ebd8e84cceae7ca9424f691782be);\n        \n    \n            var icon_3204de67b14b99b22e6edaef3e849dc8 = L.AwesomeMarkers.icon(\n                {&quot;extraClasses&quot;: &quot;fa-rotate-0&quot;, &quot;icon&quot;: &quot;info-sign&quot;, &quot;iconColor&quot;: &quot;red&quot;, &quot;markerColor&quot;: &quot;white&quot;, &quot;prefix&quot;: &quot;glyphicon&quot;}\n            );\n            marker_6b3f7701004b3c74ccf681ccbda2b14b.setIcon(icon_3204de67b14b99b22e6edaef3e849dc8);\n        \n    \n            var marker_013ba6a64b348768070ab11b4895bd93 = L.marker(\n                [28.56230197, -80.57735648],\n                {}\n            ).addTo(marker_cluster_c8a2ebd8e84cceae7ca9424f691782be);\n        \n    \n            var icon_5caa3f7f4ff69d1f181f1e7bbd977b5d = L.AwesomeMarkers.icon(\n                {&quot;extraClasses&quot;: &quot;fa-rotate-0&quot;, &quot;icon&quot;: &quot;info-sign&quot;, &quot;iconColor&quot;: &quot;red&quot;, &quot;markerColor&quot;: &quot;white&quot;, &quot;prefix&quot;: &quot;glyphicon&quot;}\n            );\n            marker_013ba6a64b348768070ab11b4895bd93.setIcon(icon_5caa3f7f4ff69d1f181f1e7bbd977b5d);\n        \n    \n            var marker_a9a4c2bb05d033427927f51a3be1ccbf = L.marker(\n                [28.56230197, -80.57735648],\n                {}\n            ).addTo(marker_cluster_c8a2ebd8e84cceae7ca9424f691782be);\n        \n    \n            var icon_652bd831e1809397a34c6c78850ebc2e = L.AwesomeMarkers.icon(\n                {&quot;extraClasses&quot;: &quot;fa-rotate-0&quot;, &quot;icon&quot;: &quot;info-sign&quot;, &quot;iconColor&quot;: &quot;red&quot;, &quot;markerColor&quot;: &quot;white&quot;, &quot;prefix&quot;: &quot;glyphicon&quot;}\n            );\n            marker_a9a4c2bb05d033427927f51a3be1ccbf.setIcon(icon_652bd831e1809397a34c6c78850ebc2e);\n        \n    \n            var marker_10f8b4df672746df39c30ea0fef5803d = L.marker(\n                [28.56230197, -80.57735648],\n                {}\n            ).addTo(marker_cluster_c8a2ebd8e84cceae7ca9424f691782be);\n        \n    \n            var icon_6abc8d1729e263a73a2114d28d733ebc = L.AwesomeMarkers.icon(\n                {&quot;extraClasses&quot;: &quot;fa-rotate-0&quot;, &quot;icon&quot;: &quot;info-sign&quot;, &quot;iconColor&quot;: &quot;red&quot;, &quot;markerColor&quot;: &quot;white&quot;, &quot;prefix&quot;: &quot;glyphicon&quot;}\n            );\n            marker_10f8b4df672746df39c30ea0fef5803d.setIcon(icon_6abc8d1729e263a73a2114d28d733ebc);\n        \n    \n            var marker_a53a7dae2ef9ceec9d400b7991c771c9 = L.marker(\n                [28.56230197, -80.57735648],\n                {}\n            ).addTo(marker_cluster_c8a2ebd8e84cceae7ca9424f691782be);\n        \n    \n            var icon_4403af268e844fd2f237a8f5921ef516 = L.AwesomeMarkers.icon(\n                {&quot;extraClasses&quot;: &quot;fa-rotate-0&quot;, &quot;icon&quot;: &quot;info-sign&quot;, &quot;iconColor&quot;: &quot;red&quot;, &quot;markerColor&quot;: &quot;white&quot;, &quot;prefix&quot;: &quot;glyphicon&quot;}\n            );\n            marker_a53a7dae2ef9ceec9d400b7991c771c9.setIcon(icon_4403af268e844fd2f237a8f5921ef516);\n        \n    \n            var marker_85fc4dbb1a805b04ba5f6b9223e89791 = L.marker(\n                [28.56230197, -80.57735648],\n                {}\n            ).addTo(marker_cluster_c8a2ebd8e84cceae7ca9424f691782be);\n        \n    \n            var icon_6ac87b3c802e04398fedadaea0a933c6 = L.AwesomeMarkers.icon(\n                {&quot;extraClasses&quot;: &quot;fa-rotate-0&quot;, &quot;icon&quot;: &quot;info-sign&quot;, &quot;iconColor&quot;: &quot;red&quot;, &quot;markerColor&quot;: &quot;white&quot;, &quot;prefix&quot;: &quot;glyphicon&quot;}\n            );\n            marker_85fc4dbb1a805b04ba5f6b9223e89791.setIcon(icon_6ac87b3c802e04398fedadaea0a933c6);\n        \n    \n            var marker_1d4b5b101637ffa93f6fee999d3cf1f3 = L.marker(\n                [28.56230197, -80.57735648],\n                {}\n            ).addTo(marker_cluster_c8a2ebd8e84cceae7ca9424f691782be);\n        \n    \n            var icon_0688bf897eb67e44d4153b00ef32ade5 = L.AwesomeMarkers.icon(\n                {&quot;extraClasses&quot;: &quot;fa-rotate-0&quot;, &quot;icon&quot;: &quot;info-sign&quot;, &quot;iconColor&quot;: &quot;red&quot;, &quot;markerColor&quot;: &quot;white&quot;, &quot;prefix&quot;: &quot;glyphicon&quot;}\n            );\n            marker_1d4b5b101637ffa93f6fee999d3cf1f3.setIcon(icon_0688bf897eb67e44d4153b00ef32ade5);\n        \n    \n            var marker_ae2323d9b9d2dca5ba323383fcaf9c9f = L.marker(\n                [28.56230197, -80.57735648],\n                {}\n            ).addTo(marker_cluster_c8a2ebd8e84cceae7ca9424f691782be);\n        \n    \n            var icon_5567cdfbbbed84880607ad77e74ae1f0 = L.AwesomeMarkers.icon(\n                {&quot;extraClasses&quot;: &quot;fa-rotate-0&quot;, &quot;icon&quot;: &quot;info-sign&quot;, &quot;iconColor&quot;: &quot;red&quot;, &quot;markerColor&quot;: &quot;white&quot;, &quot;prefix&quot;: &quot;glyphicon&quot;}\n            );\n            marker_ae2323d9b9d2dca5ba323383fcaf9c9f.setIcon(icon_5567cdfbbbed84880607ad77e74ae1f0);\n        \n    \n            var marker_5164ac641f1ecd12bd4b2d36fba1a33c = L.marker(\n                [28.56230197, -80.57735648],\n                {}\n            ).addTo(marker_cluster_c8a2ebd8e84cceae7ca9424f691782be);\n        \n    \n            var icon_b19c40e7fcc2f572d4c5717baad2c677 = L.AwesomeMarkers.icon(\n                {&quot;extraClasses&quot;: &quot;fa-rotate-0&quot;, &quot;icon&quot;: &quot;info-sign&quot;, &quot;iconColor&quot;: &quot;red&quot;, &quot;markerColor&quot;: &quot;white&quot;, &quot;prefix&quot;: &quot;glyphicon&quot;}\n            );\n            marker_5164ac641f1ecd12bd4b2d36fba1a33c.setIcon(icon_b19c40e7fcc2f572d4c5717baad2c677);\n        \n    \n            var marker_dab90e96854ee5c0005a7d8a335d5999 = L.marker(\n                [28.56230197, -80.57735648],\n                {}\n            ).addTo(marker_cluster_c8a2ebd8e84cceae7ca9424f691782be);\n        \n    \n            var icon_c660feea9e747291e7aa8ee87809bf01 = L.AwesomeMarkers.icon(\n                {&quot;extraClasses&quot;: &quot;fa-rotate-0&quot;, &quot;icon&quot;: &quot;info-sign&quot;, &quot;iconColor&quot;: &quot;red&quot;, &quot;markerColor&quot;: &quot;white&quot;, &quot;prefix&quot;: &quot;glyphicon&quot;}\n            );\n            marker_dab90e96854ee5c0005a7d8a335d5999.setIcon(icon_c660feea9e747291e7aa8ee87809bf01);\n        \n    \n            var marker_5dd51b3b623843ae66ff225f6d561168 = L.marker(\n                [28.56230197, -80.57735648],\n                {}\n            ).addTo(marker_cluster_c8a2ebd8e84cceae7ca9424f691782be);\n        \n    \n            var icon_730dfe885b58a6d755d987c9acd68683 = L.AwesomeMarkers.icon(\n                {&quot;extraClasses&quot;: &quot;fa-rotate-0&quot;, &quot;icon&quot;: &quot;info-sign&quot;, &quot;iconColor&quot;: &quot;red&quot;, &quot;markerColor&quot;: &quot;white&quot;, &quot;prefix&quot;: &quot;glyphicon&quot;}\n            );\n            marker_5dd51b3b623843ae66ff225f6d561168.setIcon(icon_730dfe885b58a6d755d987c9acd68683);\n        \n    \n            var marker_db891f8017025cf45cabcdb49012190b = L.marker(\n                [28.56230197, -80.57735648],\n                {}\n            ).addTo(marker_cluster_c8a2ebd8e84cceae7ca9424f691782be);\n        \n    \n            var icon_aca23a0315881320944106be7e2c9407 = L.AwesomeMarkers.icon(\n                {&quot;extraClasses&quot;: &quot;fa-rotate-0&quot;, &quot;icon&quot;: &quot;info-sign&quot;, &quot;iconColor&quot;: &quot;red&quot;, &quot;markerColor&quot;: &quot;white&quot;, &quot;prefix&quot;: &quot;glyphicon&quot;}\n            );\n            marker_db891f8017025cf45cabcdb49012190b.setIcon(icon_aca23a0315881320944106be7e2c9407);\n        \n    \n            var marker_195baf8cc49085c2af440edb5dd90531 = L.marker(\n                [28.56230197, -80.57735648],\n                {}\n            ).addTo(marker_cluster_c8a2ebd8e84cceae7ca9424f691782be);\n        \n    \n            var icon_473bca13f063533f0e2119a1bdc5b59a = L.AwesomeMarkers.icon(\n                {&quot;extraClasses&quot;: &quot;fa-rotate-0&quot;, &quot;icon&quot;: &quot;info-sign&quot;, &quot;iconColor&quot;: &quot;red&quot;, &quot;markerColor&quot;: &quot;white&quot;, &quot;prefix&quot;: &quot;glyphicon&quot;}\n            );\n            marker_195baf8cc49085c2af440edb5dd90531.setIcon(icon_473bca13f063533f0e2119a1bdc5b59a);\n        \n    \n            var marker_59c94d9a96851d83c708ac777ea8fc01 = L.marker(\n                [28.56230197, -80.57735648],\n                {}\n            ).addTo(marker_cluster_c8a2ebd8e84cceae7ca9424f691782be);\n        \n    \n            var icon_45aa9fbb533eb18294fe43517eb070de = L.AwesomeMarkers.icon(\n                {&quot;extraClasses&quot;: &quot;fa-rotate-0&quot;, &quot;icon&quot;: &quot;info-sign&quot;, &quot;iconColor&quot;: &quot;red&quot;, &quot;markerColor&quot;: &quot;white&quot;, &quot;prefix&quot;: &quot;glyphicon&quot;}\n            );\n            marker_59c94d9a96851d83c708ac777ea8fc01.setIcon(icon_45aa9fbb533eb18294fe43517eb070de);\n        \n    \n            var marker_eb2aedd90e1650353e2277ddefcd76e9 = L.marker(\n                [28.56230197, -80.57735648],\n                {}\n            ).addTo(marker_cluster_c8a2ebd8e84cceae7ca9424f691782be);\n        \n    \n            var icon_bf8da824b66312e3dd75cf27f67ce608 = L.AwesomeMarkers.icon(\n                {&quot;extraClasses&quot;: &quot;fa-rotate-0&quot;, &quot;icon&quot;: &quot;info-sign&quot;, &quot;iconColor&quot;: &quot;red&quot;, &quot;markerColor&quot;: &quot;white&quot;, &quot;prefix&quot;: &quot;glyphicon&quot;}\n            );\n            marker_eb2aedd90e1650353e2277ddefcd76e9.setIcon(icon_bf8da824b66312e3dd75cf27f67ce608);\n        \n    \n            var marker_db23bdd508c6e9b80454db046b090bb8 = L.marker(\n                [28.56230197, -80.57735648],\n                {}\n            ).addTo(marker_cluster_c8a2ebd8e84cceae7ca9424f691782be);\n        \n    \n            var icon_2237cda81f1a4cb76cbfca5f55668d6a = L.AwesomeMarkers.icon(\n                {&quot;extraClasses&quot;: &quot;fa-rotate-0&quot;, &quot;icon&quot;: &quot;info-sign&quot;, &quot;iconColor&quot;: &quot;green&quot;, &quot;markerColor&quot;: &quot;white&quot;, &quot;prefix&quot;: &quot;glyphicon&quot;}\n            );\n            marker_db23bdd508c6e9b80454db046b090bb8.setIcon(icon_2237cda81f1a4cb76cbfca5f55668d6a);\n        \n    \n            var marker_6406b43d0b8db799e8b48a898d879138 = L.marker(\n                [28.56230197, -80.57735648],\n                {}\n            ).addTo(marker_cluster_c8a2ebd8e84cceae7ca9424f691782be);\n        \n    \n            var icon_32cf4886cbd0f7f882ad9ce0f99d30a4 = L.AwesomeMarkers.icon(\n                {&quot;extraClasses&quot;: &quot;fa-rotate-0&quot;, &quot;icon&quot;: &quot;info-sign&quot;, &quot;iconColor&quot;: &quot;green&quot;, &quot;markerColor&quot;: &quot;white&quot;, &quot;prefix&quot;: &quot;glyphicon&quot;}\n            );\n            marker_6406b43d0b8db799e8b48a898d879138.setIcon(icon_32cf4886cbd0f7f882ad9ce0f99d30a4);\n        \n    \n            var marker_5bf3487d970fa6a1d137721cadf20815 = L.marker(\n                [28.56230197, -80.57735648],\n                {}\n            ).addTo(marker_cluster_c8a2ebd8e84cceae7ca9424f691782be);\n        \n    \n            var icon_0929cd7005462e6ed28fa5e8d59e0a89 = L.AwesomeMarkers.icon(\n                {&quot;extraClasses&quot;: &quot;fa-rotate-0&quot;, &quot;icon&quot;: &quot;info-sign&quot;, &quot;iconColor&quot;: &quot;red&quot;, &quot;markerColor&quot;: &quot;white&quot;, &quot;prefix&quot;: &quot;glyphicon&quot;}\n            );\n            marker_5bf3487d970fa6a1d137721cadf20815.setIcon(icon_0929cd7005462e6ed28fa5e8d59e0a89);\n        \n    \n            var marker_92d34c1e52c3b6a48b48abf6e670bdc4 = L.marker(\n                [28.56230197, -80.57735648],\n                {}\n            ).addTo(marker_cluster_c8a2ebd8e84cceae7ca9424f691782be);\n        \n    \n            var icon_7f86b5804e1b7f1ede08d77ad54d7f39 = L.AwesomeMarkers.icon(\n                {&quot;extraClasses&quot;: &quot;fa-rotate-0&quot;, &quot;icon&quot;: &quot;info-sign&quot;, &quot;iconColor&quot;: &quot;green&quot;, &quot;markerColor&quot;: &quot;white&quot;, &quot;prefix&quot;: &quot;glyphicon&quot;}\n            );\n            marker_92d34c1e52c3b6a48b48abf6e670bdc4.setIcon(icon_7f86b5804e1b7f1ede08d77ad54d7f39);\n        \n    \n            var marker_3dd03e1a9108b29f06dcc14fc8e9f845 = L.marker(\n                [28.56230197, -80.57735648],\n                {}\n            ).addTo(marker_cluster_c8a2ebd8e84cceae7ca9424f691782be);\n        \n    \n            var icon_f13472f8cbed6da40cf754623aba6fc8 = L.AwesomeMarkers.icon(\n                {&quot;extraClasses&quot;: &quot;fa-rotate-0&quot;, &quot;icon&quot;: &quot;info-sign&quot;, &quot;iconColor&quot;: &quot;green&quot;, &quot;markerColor&quot;: &quot;white&quot;, &quot;prefix&quot;: &quot;glyphicon&quot;}\n            );\n            marker_3dd03e1a9108b29f06dcc14fc8e9f845.setIcon(icon_f13472f8cbed6da40cf754623aba6fc8);\n        \n    \n            var marker_d887f239cfcddb20b73d6c6da996229d = L.marker(\n                [28.56230197, -80.57735648],\n                {}\n            ).addTo(marker_cluster_c8a2ebd8e84cceae7ca9424f691782be);\n        \n    \n            var icon_40b9ff56668a1d25493542e5413200f6 = L.AwesomeMarkers.icon(\n                {&quot;extraClasses&quot;: &quot;fa-rotate-0&quot;, &quot;icon&quot;: &quot;info-sign&quot;, &quot;iconColor&quot;: &quot;green&quot;, &quot;markerColor&quot;: &quot;white&quot;, &quot;prefix&quot;: &quot;glyphicon&quot;}\n            );\n            marker_d887f239cfcddb20b73d6c6da996229d.setIcon(icon_40b9ff56668a1d25493542e5413200f6);\n        \n    \n            var marker_a232e3335c0641b1a6a2f8daf3c39675 = L.marker(\n                [28.56230197, -80.57735648],\n                {}\n            ).addTo(marker_cluster_c8a2ebd8e84cceae7ca9424f691782be);\n        \n    \n            var icon_66b840b1cb50fdfd28cffda25c49116f = L.AwesomeMarkers.icon(\n                {&quot;extraClasses&quot;: &quot;fa-rotate-0&quot;, &quot;icon&quot;: &quot;info-sign&quot;, &quot;iconColor&quot;: &quot;red&quot;, &quot;markerColor&quot;: &quot;white&quot;, &quot;prefix&quot;: &quot;glyphicon&quot;}\n            );\n            marker_a232e3335c0641b1a6a2f8daf3c39675.setIcon(icon_66b840b1cb50fdfd28cffda25c49116f);\n        \n    \n            var marker_c7f4f9132d2f8b71971d7e946dbde0b9 = L.marker(\n                [28.56230197, -80.57735648],\n                {}\n            ).addTo(marker_cluster_c8a2ebd8e84cceae7ca9424f691782be);\n        \n    \n            var icon_c4d6678343c34ba09959b9a19c773e8e = L.AwesomeMarkers.icon(\n                {&quot;extraClasses&quot;: &quot;fa-rotate-0&quot;, &quot;icon&quot;: &quot;info-sign&quot;, &quot;iconColor&quot;: &quot;green&quot;, &quot;markerColor&quot;: &quot;white&quot;, &quot;prefix&quot;: &quot;glyphicon&quot;}\n            );\n            marker_c7f4f9132d2f8b71971d7e946dbde0b9.setIcon(icon_c4d6678343c34ba09959b9a19c773e8e);\n        \n    \n            var marker_edf9a753092db4cd48a0d6a2a9c5b173 = L.marker(\n                [28.56230197, -80.57735648],\n                {}\n            ).addTo(marker_cluster_c8a2ebd8e84cceae7ca9424f691782be);\n        \n    \n            var icon_96b5081c13916c83172ff5afedcb815d = L.AwesomeMarkers.icon(\n                {&quot;extraClasses&quot;: &quot;fa-rotate-0&quot;, &quot;icon&quot;: &quot;info-sign&quot;, &quot;iconColor&quot;: &quot;green&quot;, &quot;markerColor&quot;: &quot;white&quot;, &quot;prefix&quot;: &quot;glyphicon&quot;}\n            );\n            marker_edf9a753092db4cd48a0d6a2a9c5b173.setIcon(icon_96b5081c13916c83172ff5afedcb815d);\n        \n    \n            var marker_5f78c59605613819896562baa7e23e73 = L.marker(\n                [34.63283416, -120.6107455],\n                {}\n            ).addTo(marker_cluster_c8a2ebd8e84cceae7ca9424f691782be);\n        \n    \n            var icon_e17401d6f9f92c43dce521950335d04d = L.AwesomeMarkers.icon(\n                {&quot;extraClasses&quot;: &quot;fa-rotate-0&quot;, &quot;icon&quot;: &quot;info-sign&quot;, &quot;iconColor&quot;: &quot;red&quot;, &quot;markerColor&quot;: &quot;white&quot;, &quot;prefix&quot;: &quot;glyphicon&quot;}\n            );\n            marker_5f78c59605613819896562baa7e23e73.setIcon(icon_e17401d6f9f92c43dce521950335d04d);\n        \n    \n            var marker_db6196d5f667b6462287ea8f2a15ccb9 = L.marker(\n                [34.63283416, -120.6107455],\n                {}\n            ).addTo(marker_cluster_c8a2ebd8e84cceae7ca9424f691782be);\n        \n    \n            var icon_1670e92dd6fb2a1ec7f862537d4fe027 = L.AwesomeMarkers.icon(\n                {&quot;extraClasses&quot;: &quot;fa-rotate-0&quot;, &quot;icon&quot;: &quot;info-sign&quot;, &quot;iconColor&quot;: &quot;red&quot;, &quot;markerColor&quot;: &quot;white&quot;, &quot;prefix&quot;: &quot;glyphicon&quot;}\n            );\n            marker_db6196d5f667b6462287ea8f2a15ccb9.setIcon(icon_1670e92dd6fb2a1ec7f862537d4fe027);\n        \n    \n            var marker_2568736bf3996b43f85229e93f163220 = L.marker(\n                [34.63283416, -120.6107455],\n                {}\n            ).addTo(marker_cluster_c8a2ebd8e84cceae7ca9424f691782be);\n        \n    \n            var icon_9b00dd1260da4ca8813c0cab0bcbf14b = L.AwesomeMarkers.icon(\n                {&quot;extraClasses&quot;: &quot;fa-rotate-0&quot;, &quot;icon&quot;: &quot;info-sign&quot;, &quot;iconColor&quot;: &quot;green&quot;, &quot;markerColor&quot;: &quot;white&quot;, &quot;prefix&quot;: &quot;glyphicon&quot;}\n            );\n            marker_2568736bf3996b43f85229e93f163220.setIcon(icon_9b00dd1260da4ca8813c0cab0bcbf14b);\n        \n    \n            var marker_c4da1e8da85fab18a1980d5357abab92 = L.marker(\n                [34.63283416, -120.6107455],\n                {}\n            ).addTo(marker_cluster_c8a2ebd8e84cceae7ca9424f691782be);\n        \n    \n            var icon_4cf12a4f09b26f55bc2892bab6eecb7b = L.AwesomeMarkers.icon(\n                {&quot;extraClasses&quot;: &quot;fa-rotate-0&quot;, &quot;icon&quot;: &quot;info-sign&quot;, &quot;iconColor&quot;: &quot;green&quot;, &quot;markerColor&quot;: &quot;white&quot;, &quot;prefix&quot;: &quot;glyphicon&quot;}\n            );\n            marker_c4da1e8da85fab18a1980d5357abab92.setIcon(icon_4cf12a4f09b26f55bc2892bab6eecb7b);\n        \n    \n            var marker_543e4183aa1c1f6e82eb77fd3e97f9f5 = L.marker(\n                [34.63283416, -120.6107455],\n                {}\n            ).addTo(marker_cluster_c8a2ebd8e84cceae7ca9424f691782be);\n        \n    \n            var icon_15f1898f0cbacc356e084f158032067c = L.AwesomeMarkers.icon(\n                {&quot;extraClasses&quot;: &quot;fa-rotate-0&quot;, &quot;icon&quot;: &quot;info-sign&quot;, &quot;iconColor&quot;: &quot;green&quot;, &quot;markerColor&quot;: &quot;white&quot;, &quot;prefix&quot;: &quot;glyphicon&quot;}\n            );\n            marker_543e4183aa1c1f6e82eb77fd3e97f9f5.setIcon(icon_15f1898f0cbacc356e084f158032067c);\n        \n    \n            var marker_74fe1429b20ca5b30e90af57b9a37944 = L.marker(\n                [34.63283416, -120.6107455],\n                {}\n            ).addTo(marker_cluster_c8a2ebd8e84cceae7ca9424f691782be);\n        \n    \n            var icon_ca5358c870e9135aaba3d2f41c7181eb = L.AwesomeMarkers.icon(\n                {&quot;extraClasses&quot;: &quot;fa-rotate-0&quot;, &quot;icon&quot;: &quot;info-sign&quot;, &quot;iconColor&quot;: &quot;green&quot;, &quot;markerColor&quot;: &quot;white&quot;, &quot;prefix&quot;: &quot;glyphicon&quot;}\n            );\n            marker_74fe1429b20ca5b30e90af57b9a37944.setIcon(icon_ca5358c870e9135aaba3d2f41c7181eb);\n        \n    \n            var marker_aece6826eb7c5274b09ca7c2a634378a = L.marker(\n                [34.63283416, -120.6107455],\n                {}\n            ).addTo(marker_cluster_c8a2ebd8e84cceae7ca9424f691782be);\n        \n    \n            var icon_31fcbe8824873c32dc38193fe64fbc06 = L.AwesomeMarkers.icon(\n                {&quot;extraClasses&quot;: &quot;fa-rotate-0&quot;, &quot;icon&quot;: &quot;info-sign&quot;, &quot;iconColor&quot;: &quot;red&quot;, &quot;markerColor&quot;: &quot;white&quot;, &quot;prefix&quot;: &quot;glyphicon&quot;}\n            );\n            marker_aece6826eb7c5274b09ca7c2a634378a.setIcon(icon_31fcbe8824873c32dc38193fe64fbc06);\n        \n    \n            var marker_8dc1f8fa30855b16fe58e36079998398 = L.marker(\n                [34.63283416, -120.6107455],\n                {}\n            ).addTo(marker_cluster_c8a2ebd8e84cceae7ca9424f691782be);\n        \n    \n            var icon_eac9b02a5c3a0cdc0459dec5ca5be24f = L.AwesomeMarkers.icon(\n                {&quot;extraClasses&quot;: &quot;fa-rotate-0&quot;, &quot;icon&quot;: &quot;info-sign&quot;, &quot;iconColor&quot;: &quot;red&quot;, &quot;markerColor&quot;: &quot;white&quot;, &quot;prefix&quot;: &quot;glyphicon&quot;}\n            );\n            marker_8dc1f8fa30855b16fe58e36079998398.setIcon(icon_eac9b02a5c3a0cdc0459dec5ca5be24f);\n        \n    \n            var marker_ab23a15d3d64cd4ee9a4d8a26b787fac = L.marker(\n                [34.63283416, -120.6107455],\n                {}\n            ).addTo(marker_cluster_c8a2ebd8e84cceae7ca9424f691782be);\n        \n    \n            var icon_3d32aee9b46e45158b40ba38d68bb868 = L.AwesomeMarkers.icon(\n                {&quot;extraClasses&quot;: &quot;fa-rotate-0&quot;, &quot;icon&quot;: &quot;info-sign&quot;, &quot;iconColor&quot;: &quot;red&quot;, &quot;markerColor&quot;: &quot;white&quot;, &quot;prefix&quot;: &quot;glyphicon&quot;}\n            );\n            marker_ab23a15d3d64cd4ee9a4d8a26b787fac.setIcon(icon_3d32aee9b46e45158b40ba38d68bb868);\n        \n    \n            var marker_d5c5b310fe47a9c297452636c880fae5 = L.marker(\n                [34.63283416, -120.6107455],\n                {}\n            ).addTo(marker_cluster_c8a2ebd8e84cceae7ca9424f691782be);\n        \n    \n            var icon_638c9a7360494e7d31f08f11910fb5d1 = L.AwesomeMarkers.icon(\n                {&quot;extraClasses&quot;: &quot;fa-rotate-0&quot;, &quot;icon&quot;: &quot;info-sign&quot;, &quot;iconColor&quot;: &quot;red&quot;, &quot;markerColor&quot;: &quot;white&quot;, &quot;prefix&quot;: &quot;glyphicon&quot;}\n            );\n            marker_d5c5b310fe47a9c297452636c880fae5.setIcon(icon_638c9a7360494e7d31f08f11910fb5d1);\n        \n    \n            var marker_5fd02a58953c92a64fe9b3ef39e9862f = L.marker(\n                [28.57325457, -80.64689529],\n                {}\n            ).addTo(marker_cluster_c8a2ebd8e84cceae7ca9424f691782be);\n        \n    \n            var icon_db12706f77ca5eec8527b5a591ac3f38 = L.AwesomeMarkers.icon(\n                {&quot;extraClasses&quot;: &quot;fa-rotate-0&quot;, &quot;icon&quot;: &quot;info-sign&quot;, &quot;iconColor&quot;: &quot;green&quot;, &quot;markerColor&quot;: &quot;white&quot;, &quot;prefix&quot;: &quot;glyphicon&quot;}\n            );\n            marker_5fd02a58953c92a64fe9b3ef39e9862f.setIcon(icon_db12706f77ca5eec8527b5a591ac3f38);\n        \n    \n            var marker_8b66a452798fe6d05e951f3befe7964d = L.marker(\n                [28.57325457, -80.64689529],\n                {}\n            ).addTo(marker_cluster_c8a2ebd8e84cceae7ca9424f691782be);\n        \n    \n            var icon_a72f0089ae137c1aece8af11f103193e = L.AwesomeMarkers.icon(\n                {&quot;extraClasses&quot;: &quot;fa-rotate-0&quot;, &quot;icon&quot;: &quot;info-sign&quot;, &quot;iconColor&quot;: &quot;red&quot;, &quot;markerColor&quot;: &quot;white&quot;, &quot;prefix&quot;: &quot;glyphicon&quot;}\n            );\n            marker_8b66a452798fe6d05e951f3befe7964d.setIcon(icon_a72f0089ae137c1aece8af11f103193e);\n        \n    \n            var marker_0f6e8bde157f4a28bc46a5f34c6cb3ac = L.marker(\n                [28.57325457, -80.64689529],\n                {}\n            ).addTo(marker_cluster_c8a2ebd8e84cceae7ca9424f691782be);\n        \n    \n            var icon_df9e44a1907ce7c14297a72e5c15bc39 = L.AwesomeMarkers.icon(\n                {&quot;extraClasses&quot;: &quot;fa-rotate-0&quot;, &quot;icon&quot;: &quot;info-sign&quot;, &quot;iconColor&quot;: &quot;green&quot;, &quot;markerColor&quot;: &quot;white&quot;, &quot;prefix&quot;: &quot;glyphicon&quot;}\n            );\n            marker_0f6e8bde157f4a28bc46a5f34c6cb3ac.setIcon(icon_df9e44a1907ce7c14297a72e5c15bc39);\n        \n    \n            var marker_885ace67692b6fc322abd30dc53b0150 = L.marker(\n                [28.57325457, -80.64689529],\n                {}\n            ).addTo(marker_cluster_c8a2ebd8e84cceae7ca9424f691782be);\n        \n    \n            var icon_32249284164818a356484f5bcb6ffd99 = L.AwesomeMarkers.icon(\n                {&quot;extraClasses&quot;: &quot;fa-rotate-0&quot;, &quot;icon&quot;: &quot;info-sign&quot;, &quot;iconColor&quot;: &quot;green&quot;, &quot;markerColor&quot;: &quot;white&quot;, &quot;prefix&quot;: &quot;glyphicon&quot;}\n            );\n            marker_885ace67692b6fc322abd30dc53b0150.setIcon(icon_32249284164818a356484f5bcb6ffd99);\n        \n    \n            var marker_71ddab9e6450d29cfeb5063b933291b7 = L.marker(\n                [28.57325457, -80.64689529],\n                {}\n            ).addTo(marker_cluster_c8a2ebd8e84cceae7ca9424f691782be);\n        \n    \n            var icon_b5c278c9061e12e01aba7f1f775b7f6b = L.AwesomeMarkers.icon(\n                {&quot;extraClasses&quot;: &quot;fa-rotate-0&quot;, &quot;icon&quot;: &quot;info-sign&quot;, &quot;iconColor&quot;: &quot;red&quot;, &quot;markerColor&quot;: &quot;white&quot;, &quot;prefix&quot;: &quot;glyphicon&quot;}\n            );\n            marker_71ddab9e6450d29cfeb5063b933291b7.setIcon(icon_b5c278c9061e12e01aba7f1f775b7f6b);\n        \n    \n            var marker_65b36bda9de91691a88f26e1a1844c15 = L.marker(\n                [28.57325457, -80.64689529],\n                {}\n            ).addTo(marker_cluster_c8a2ebd8e84cceae7ca9424f691782be);\n        \n    \n            var icon_1f1526a90c9ae03cb18b0c90cbd4a182 = L.AwesomeMarkers.icon(\n                {&quot;extraClasses&quot;: &quot;fa-rotate-0&quot;, &quot;icon&quot;: &quot;info-sign&quot;, &quot;iconColor&quot;: &quot;green&quot;, &quot;markerColor&quot;: &quot;white&quot;, &quot;prefix&quot;: &quot;glyphicon&quot;}\n            );\n            marker_65b36bda9de91691a88f26e1a1844c15.setIcon(icon_1f1526a90c9ae03cb18b0c90cbd4a182);\n        \n    \n            var marker_579153c43536620162df19c6e9b18346 = L.marker(\n                [28.57325457, -80.64689529],\n                {}\n            ).addTo(marker_cluster_c8a2ebd8e84cceae7ca9424f691782be);\n        \n    \n            var icon_6fb6864a2fe5edc85f2a981f1837677b = L.AwesomeMarkers.icon(\n                {&quot;extraClasses&quot;: &quot;fa-rotate-0&quot;, &quot;icon&quot;: &quot;info-sign&quot;, &quot;iconColor&quot;: &quot;green&quot;, &quot;markerColor&quot;: &quot;white&quot;, &quot;prefix&quot;: &quot;glyphicon&quot;}\n            );\n            marker_579153c43536620162df19c6e9b18346.setIcon(icon_6fb6864a2fe5edc85f2a981f1837677b);\n        \n    \n            var marker_76abd791afcff6c3059540abd24a64e4 = L.marker(\n                [28.57325457, -80.64689529],\n                {}\n            ).addTo(marker_cluster_c8a2ebd8e84cceae7ca9424f691782be);\n        \n    \n            var icon_19472bc50006f887f41f0a2f928aee5f = L.AwesomeMarkers.icon(\n                {&quot;extraClasses&quot;: &quot;fa-rotate-0&quot;, &quot;icon&quot;: &quot;info-sign&quot;, &quot;iconColor&quot;: &quot;red&quot;, &quot;markerColor&quot;: &quot;white&quot;, &quot;prefix&quot;: &quot;glyphicon&quot;}\n            );\n            marker_76abd791afcff6c3059540abd24a64e4.setIcon(icon_19472bc50006f887f41f0a2f928aee5f);\n        \n    \n            var marker_cb5db5168a30cbe8792c0d989ef2571e = L.marker(\n                [28.57325457, -80.64689529],\n                {}\n            ).addTo(marker_cluster_c8a2ebd8e84cceae7ca9424f691782be);\n        \n    \n            var icon_fe82f71d2c79fffda50a582c65652ebf = L.AwesomeMarkers.icon(\n                {&quot;extraClasses&quot;: &quot;fa-rotate-0&quot;, &quot;icon&quot;: &quot;info-sign&quot;, &quot;iconColor&quot;: &quot;green&quot;, &quot;markerColor&quot;: &quot;white&quot;, &quot;prefix&quot;: &quot;glyphicon&quot;}\n            );\n            marker_cb5db5168a30cbe8792c0d989ef2571e.setIcon(icon_fe82f71d2c79fffda50a582c65652ebf);\n        \n    \n            var marker_12eb4f54f0d12f86ab8748a48db7cb56 = L.marker(\n                [28.57325457, -80.64689529],\n                {}\n            ).addTo(marker_cluster_c8a2ebd8e84cceae7ca9424f691782be);\n        \n    \n            var icon_c14781765f372087c1b60ce46450a0ad = L.AwesomeMarkers.icon(\n                {&quot;extraClasses&quot;: &quot;fa-rotate-0&quot;, &quot;icon&quot;: &quot;info-sign&quot;, &quot;iconColor&quot;: &quot;green&quot;, &quot;markerColor&quot;: &quot;white&quot;, &quot;prefix&quot;: &quot;glyphicon&quot;}\n            );\n            marker_12eb4f54f0d12f86ab8748a48db7cb56.setIcon(icon_c14781765f372087c1b60ce46450a0ad);\n        \n    \n            var marker_2d2be5e41dedfb52263829974dcc6377 = L.marker(\n                [28.57325457, -80.64689529],\n                {}\n            ).addTo(marker_cluster_c8a2ebd8e84cceae7ca9424f691782be);\n        \n    \n            var icon_238cd9fb9cd404e515a7eb1644e60469 = L.AwesomeMarkers.icon(\n                {&quot;extraClasses&quot;: &quot;fa-rotate-0&quot;, &quot;icon&quot;: &quot;info-sign&quot;, &quot;iconColor&quot;: &quot;green&quot;, &quot;markerColor&quot;: &quot;white&quot;, &quot;prefix&quot;: &quot;glyphicon&quot;}\n            );\n            marker_2d2be5e41dedfb52263829974dcc6377.setIcon(icon_238cd9fb9cd404e515a7eb1644e60469);\n        \n    \n            var marker_0e5c098112166f50fa7559b33bf0153d = L.marker(\n                [28.57325457, -80.64689529],\n                {}\n            ).addTo(marker_cluster_c8a2ebd8e84cceae7ca9424f691782be);\n        \n    \n            var icon_0d6741527b4596b42852726f5a112b44 = L.AwesomeMarkers.icon(\n                {&quot;extraClasses&quot;: &quot;fa-rotate-0&quot;, &quot;icon&quot;: &quot;info-sign&quot;, &quot;iconColor&quot;: &quot;green&quot;, &quot;markerColor&quot;: &quot;white&quot;, &quot;prefix&quot;: &quot;glyphicon&quot;}\n            );\n            marker_0e5c098112166f50fa7559b33bf0153d.setIcon(icon_0d6741527b4596b42852726f5a112b44);\n        \n    \n            var marker_71d7e2b8120c2bd60c68b090be2935b6 = L.marker(\n                [28.57325457, -80.64689529],\n                {}\n            ).addTo(marker_cluster_c8a2ebd8e84cceae7ca9424f691782be);\n        \n    \n            var icon_9664adfde98a4703507733f9f7e7b9ac = L.AwesomeMarkers.icon(\n                {&quot;extraClasses&quot;: &quot;fa-rotate-0&quot;, &quot;icon&quot;: &quot;info-sign&quot;, &quot;iconColor&quot;: &quot;green&quot;, &quot;markerColor&quot;: &quot;white&quot;, &quot;prefix&quot;: &quot;glyphicon&quot;}\n            );\n            marker_71d7e2b8120c2bd60c68b090be2935b6.setIcon(icon_9664adfde98a4703507733f9f7e7b9ac);\n        \n    \n            var marker_9d95a2ba2e5858a0d0c1c367b2810962 = L.marker(\n                [28.56319718, -80.57682003],\n                {}\n            ).addTo(marker_cluster_c8a2ebd8e84cceae7ca9424f691782be);\n        \n    \n            var icon_fb08085adb237beb07fbace36fababf9 = L.AwesomeMarkers.icon(\n                {&quot;extraClasses&quot;: &quot;fa-rotate-0&quot;, &quot;icon&quot;: &quot;info-sign&quot;, &quot;iconColor&quot;: &quot;green&quot;, &quot;markerColor&quot;: &quot;white&quot;, &quot;prefix&quot;: &quot;glyphicon&quot;}\n            );\n            marker_9d95a2ba2e5858a0d0c1c367b2810962.setIcon(icon_fb08085adb237beb07fbace36fababf9);\n        \n    \n            var marker_dd0792a96f52a2fa72733aada48a2ba4 = L.marker(\n                [28.56319718, -80.57682003],\n                {}\n            ).addTo(marker_cluster_c8a2ebd8e84cceae7ca9424f691782be);\n        \n    \n            var icon_83b4ca13e11b990ca38e81d4a9d0b01a = L.AwesomeMarkers.icon(\n                {&quot;extraClasses&quot;: &quot;fa-rotate-0&quot;, &quot;icon&quot;: &quot;info-sign&quot;, &quot;iconColor&quot;: &quot;green&quot;, &quot;markerColor&quot;: &quot;white&quot;, &quot;prefix&quot;: &quot;glyphicon&quot;}\n            );\n            marker_dd0792a96f52a2fa72733aada48a2ba4.setIcon(icon_83b4ca13e11b990ca38e81d4a9d0b01a);\n        \n    \n            var marker_41d63817b06dd9fd553c0983fe324ae0 = L.marker(\n                [28.56319718, -80.57682003],\n                {}\n            ).addTo(marker_cluster_c8a2ebd8e84cceae7ca9424f691782be);\n        \n    \n            var icon_a7eff62cad5d8d4a3510911add299486 = L.AwesomeMarkers.icon(\n                {&quot;extraClasses&quot;: &quot;fa-rotate-0&quot;, &quot;icon&quot;: &quot;info-sign&quot;, &quot;iconColor&quot;: &quot;red&quot;, &quot;markerColor&quot;: &quot;white&quot;, &quot;prefix&quot;: &quot;glyphicon&quot;}\n            );\n            marker_41d63817b06dd9fd553c0983fe324ae0.setIcon(icon_a7eff62cad5d8d4a3510911add299486);\n        \n    \n            var marker_2d18504efcdb98c4a55ea4fa7dab7f4b = L.marker(\n                [28.56319718, -80.57682003],\n                {}\n            ).addTo(marker_cluster_c8a2ebd8e84cceae7ca9424f691782be);\n        \n    \n            var icon_bf880746600a7bf78a598462a91e0a27 = L.AwesomeMarkers.icon(\n                {&quot;extraClasses&quot;: &quot;fa-rotate-0&quot;, &quot;icon&quot;: &quot;info-sign&quot;, &quot;iconColor&quot;: &quot;red&quot;, &quot;markerColor&quot;: &quot;white&quot;, &quot;prefix&quot;: &quot;glyphicon&quot;}\n            );\n            marker_2d18504efcdb98c4a55ea4fa7dab7f4b.setIcon(icon_bf880746600a7bf78a598462a91e0a27);\n        \n    \n            var marker_f62596ce8308d41f53b8694f4140f3ae = L.marker(\n                [28.56319718, -80.57682003],\n                {}\n            ).addTo(marker_cluster_c8a2ebd8e84cceae7ca9424f691782be);\n        \n    \n            var icon_865ced624f1d841b71222d4ea1d99b53 = L.AwesomeMarkers.icon(\n                {&quot;extraClasses&quot;: &quot;fa-rotate-0&quot;, &quot;icon&quot;: &quot;info-sign&quot;, &quot;iconColor&quot;: &quot;red&quot;, &quot;markerColor&quot;: &quot;white&quot;, &quot;prefix&quot;: &quot;glyphicon&quot;}\n            );\n            marker_f62596ce8308d41f53b8694f4140f3ae.setIcon(icon_865ced624f1d841b71222d4ea1d99b53);\n        \n    \n            var marker_0db8a31cae720fb5196703cab165b92a = L.marker(\n                [28.56319718, -80.57682003],\n                {}\n            ).addTo(marker_cluster_c8a2ebd8e84cceae7ca9424f691782be);\n        \n    \n            var icon_67fbd97daa780aba03928119f48adcc8 = L.AwesomeMarkers.icon(\n                {&quot;extraClasses&quot;: &quot;fa-rotate-0&quot;, &quot;icon&quot;: &quot;info-sign&quot;, &quot;iconColor&quot;: &quot;green&quot;, &quot;markerColor&quot;: &quot;white&quot;, &quot;prefix&quot;: &quot;glyphicon&quot;}\n            );\n            marker_0db8a31cae720fb5196703cab165b92a.setIcon(icon_67fbd97daa780aba03928119f48adcc8);\n        \n    \n            var marker_9de2f5565b6b82160ca46564f8478aa2 = L.marker(\n                [28.56319718, -80.57682003],\n                {}\n            ).addTo(marker_cluster_c8a2ebd8e84cceae7ca9424f691782be);\n        \n    \n            var icon_55eda43f26107f8fa405c83f0c42d9a3 = L.AwesomeMarkers.icon(\n                {&quot;extraClasses&quot;: &quot;fa-rotate-0&quot;, &quot;icon&quot;: &quot;info-sign&quot;, &quot;iconColor&quot;: &quot;red&quot;, &quot;markerColor&quot;: &quot;white&quot;, &quot;prefix&quot;: &quot;glyphicon&quot;}\n            );\n            marker_9de2f5565b6b82160ca46564f8478aa2.setIcon(icon_55eda43f26107f8fa405c83f0c42d9a3);\n        \n&lt;/script&gt;\" style=\"position:absolute;width:100%;height:100%;left:0;top:0;border:none !important;\" allowfullscreen webkitallowfullscreen mozallowfullscreen></iframe></div></div>"
          },
          "metadata": {}
        }
      ]
    },
    {
      "metadata": {
        "id": "Ui0J2eX3TdWy"
      },
      "cell_type": "markdown",
      "source": [
        "Your updated map may look like the following screenshots:\n"
      ]
    },
    {
      "metadata": {
        "id": "du8Og79pTdWz"
      },
      "cell_type": "markdown",
      "source": [
        "<center>\n",
        "    <img src=\"https://cf-courses-data.s3.us.cloud-object-storage.appdomain.cloud/IBM-DS0321EN-SkillsNetwork/labs/module_3/images/launch_site_marker_cluster.png\" />\n",
        "</center>\n"
      ]
    },
    {
      "metadata": {
        "id": "BnQcJwBNTdWz"
      },
      "cell_type": "markdown",
      "source": [
        "<center>\n",
        "    <img src=\"https://cf-courses-data.s3.us.cloud-object-storage.appdomain.cloud/IBM-DS0321EN-SkillsNetwork/labs/module_3/images/launch_site_marker_cluster_zoomed.png\" />\n",
        "</center>\n"
      ]
    },
    {
      "metadata": {
        "id": "jcpwuDo6TdWz"
      },
      "cell_type": "markdown",
      "source": [
        "From the color-labeled markers in marker clusters, you should be able to easily identify which launch sites have relatively high success rates.\n"
      ]
    },
    {
      "metadata": {
        "id": "0hxF2s8iTdWz"
      },
      "cell_type": "markdown",
      "source": [
        "# TASK 3: Calculate the distances between a launch site to its proximities\n"
      ]
    },
    {
      "metadata": {
        "id": "16wBwVW1TdWz"
      },
      "cell_type": "markdown",
      "source": [
        "Next, we need to explore and analyze the proximities of launch sites.\n"
      ]
    },
    {
      "metadata": {
        "id": "QDyjvXU6TdWz"
      },
      "cell_type": "markdown",
      "source": [
        "Let's first add a `MousePosition` on the map to get coordinate for a mouse over a point on the map. As such, while you are exploring the map, you can easily find the coordinates of any points of interests (such as railway)\n"
      ]
    },
    {
      "metadata": {
        "id": "IegtZhOzTdWz",
        "outputId": "95683213-2788-4455-9030-86deae81a772"
      },
      "cell_type": "code",
      "source": [
        "# Add Mouse Position to get the coordinate (Lat, Long) for a mouse over on the map\n",
        "formatter = \"function(num) {return L.Util.formatNum(num, 5);};\"\n",
        "mouse_position = MousePosition(\n",
        "    position='topright',\n",
        "    separator=' Long: ',\n",
        "    empty_string='NaN',\n",
        "    lng_first=False,\n",
        "    num_digits=20,\n",
        "    prefix='Lat:',\n",
        "    lat_formatter=formatter,\n",
        "    lng_formatter=formatter,\n",
        ")\n",
        "\n",
        "site_map.add_child(mouse_position)\n",
        "site_map"
      ],
      "execution_count": null,
      "outputs": [
        {
          "output_type": "execute_result",
          "execution_count": 35,
          "data": {
            "text/plain": "<folium.folium.Map at 0x7f215baa0df0>",
            "text/html": "<div style=\"width:100%;\"><div style=\"position:relative;width:100%;height:0;padding-bottom:60%;\"><span style=\"color:#565656\">Make this Notebook Trusted to load map: File -> Trust Notebook</span><iframe srcdoc=\"&lt;!DOCTYPE html&gt;\n&lt;head&gt;    \n    &lt;meta http-equiv=&quot;content-type&quot; content=&quot;text/html; charset=UTF-8&quot; /&gt;\n    \n        &lt;script&gt;\n            L_NO_TOUCH = false;\n            L_DISABLE_3D = false;\n        &lt;/script&gt;\n    \n    &lt;style&gt;html, body {width: 100%;height: 100%;margin: 0;padding: 0;}&lt;/style&gt;\n    &lt;style&gt;#map {position:absolute;top:0;bottom:0;right:0;left:0;}&lt;/style&gt;\n    &lt;script src=&quot;https://cdn.jsdelivr.net/npm/leaflet@1.6.0/dist/leaflet.js&quot;&gt;&lt;/script&gt;\n    &lt;script src=&quot;https://code.jquery.com/jquery-1.12.4.min.js&quot;&gt;&lt;/script&gt;\n    &lt;script src=&quot;https://maxcdn.bootstrapcdn.com/bootstrap/3.2.0/js/bootstrap.min.js&quot;&gt;&lt;/script&gt;\n    &lt;script src=&quot;https://cdnjs.cloudflare.com/ajax/libs/Leaflet.awesome-markers/2.0.2/leaflet.awesome-markers.js&quot;&gt;&lt;/script&gt;\n    &lt;link rel=&quot;stylesheet&quot; href=&quot;https://cdn.jsdelivr.net/npm/leaflet@1.6.0/dist/leaflet.css&quot;/&gt;\n    &lt;link rel=&quot;stylesheet&quot; href=&quot;https://maxcdn.bootstrapcdn.com/bootstrap/3.2.0/css/bootstrap.min.css&quot;/&gt;\n    &lt;link rel=&quot;stylesheet&quot; href=&quot;https://maxcdn.bootstrapcdn.com/bootstrap/3.2.0/css/bootstrap-theme.min.css&quot;/&gt;\n    &lt;link rel=&quot;stylesheet&quot; href=&quot;https://maxcdn.bootstrapcdn.com/font-awesome/4.6.3/css/font-awesome.min.css&quot;/&gt;\n    &lt;link rel=&quot;stylesheet&quot; href=&quot;https://cdnjs.cloudflare.com/ajax/libs/Leaflet.awesome-markers/2.0.2/leaflet.awesome-markers.css&quot;/&gt;\n    &lt;link rel=&quot;stylesheet&quot; href=&quot;https://cdn.jsdelivr.net/gh/python-visualization/folium/folium/templates/leaflet.awesome.rotate.min.css&quot;/&gt;\n    \n            &lt;meta name=&quot;viewport&quot; content=&quot;width=device-width,\n                initial-scale=1.0, maximum-scale=1.0, user-scalable=no&quot; /&gt;\n            &lt;style&gt;\n                #map_75e5e87fcd461f61f302fc795de475d8 {\n                    position: relative;\n                    width: 100.0%;\n                    height: 100.0%;\n                    left: 0.0%;\n                    top: 0.0%;\n                }\n            &lt;/style&gt;\n        \n    &lt;script src=&quot;https://cdnjs.cloudflare.com/ajax/libs/leaflet.markercluster/1.1.0/leaflet.markercluster.js&quot;&gt;&lt;/script&gt;\n    &lt;link rel=&quot;stylesheet&quot; href=&quot;https://cdnjs.cloudflare.com/ajax/libs/leaflet.markercluster/1.1.0/MarkerCluster.css&quot;/&gt;\n    &lt;link rel=&quot;stylesheet&quot; href=&quot;https://cdnjs.cloudflare.com/ajax/libs/leaflet.markercluster/1.1.0/MarkerCluster.Default.css&quot;/&gt;\n    &lt;script src=&quot;https://cdn.jsdelivr.net/gh/ardhi/Leaflet.MousePosition/src/L.Control.MousePosition.min.js&quot;&gt;&lt;/script&gt;\n    &lt;link rel=&quot;stylesheet&quot; href=&quot;https://cdn.jsdelivr.net/gh/ardhi/Leaflet.MousePosition/src/L.Control.MousePosition.min.css&quot;/&gt;\n&lt;/head&gt;\n&lt;body&gt;    \n    \n            &lt;div class=&quot;folium-map&quot; id=&quot;map_75e5e87fcd461f61f302fc795de475d8&quot; &gt;&lt;/div&gt;\n        \n&lt;/body&gt;\n&lt;script&gt;    \n    \n            var map_75e5e87fcd461f61f302fc795de475d8 = L.map(\n                &quot;map_75e5e87fcd461f61f302fc795de475d8&quot;,\n                {\n                    center: [29.559684888503615, -95.0830971930759],\n                    crs: L.CRS.EPSG3857,\n                    zoom: 5,\n                    zoomControl: true,\n                    preferCanvas: false,\n                }\n            );\n\n            \n\n        \n    \n            var tile_layer_4d2dbb40909365bdbf5d4f01013db582 = L.tileLayer(\n                &quot;https://{s}.tile.openstreetmap.org/{z}/{x}/{y}.png&quot;,\n                {&quot;attribution&quot;: &quot;Data by \\u0026copy; \\u003ca href=\\&quot;http://openstreetmap.org\\&quot;\\u003eOpenStreetMap\\u003c/a\\u003e, under \\u003ca href=\\&quot;http://www.openstreetmap.org/copyright\\&quot;\\u003eODbL\\u003c/a\\u003e.&quot;, &quot;detectRetina&quot;: false, &quot;maxNativeZoom&quot;: 18, &quot;maxZoom&quot;: 18, &quot;minZoom&quot;: 0, &quot;noWrap&quot;: false, &quot;opacity&quot;: 1, &quot;subdomains&quot;: &quot;abc&quot;, &quot;tms&quot;: false}\n            ).addTo(map_75e5e87fcd461f61f302fc795de475d8);\n        \n    \n            var circle_10515ccf40ded442def824842d766cbe = L.circle(\n                [28.56230197, -80.57735648],\n                {&quot;bubblingMouseEvents&quot;: true, &quot;color&quot;: &quot;#d35400&quot;, &quot;dashArray&quot;: null, &quot;dashOffset&quot;: null, &quot;fill&quot;: true, &quot;fillColor&quot;: &quot;#d35400&quot;, &quot;fillOpacity&quot;: 0.2, &quot;fillRule&quot;: &quot;evenodd&quot;, &quot;lineCap&quot;: &quot;round&quot;, &quot;lineJoin&quot;: &quot;round&quot;, &quot;opacity&quot;: 1.0, &quot;radius&quot;: 1000, &quot;stroke&quot;: true, &quot;weight&quot;: 3}\n            ).addTo(map_75e5e87fcd461f61f302fc795de475d8);\n        \n    \n        var popup_10ec5d1473c360713a22274ebc8050ea = L.popup({&quot;maxWidth&quot;: &quot;100%&quot;});\n\n        \n            var html_38ac02ec6c11613a10a378560528d711 = $(`&lt;div id=&quot;html_38ac02ec6c11613a10a378560528d711&quot; style=&quot;width: 100.0%; height: 100.0%;&quot;&gt;CCAFS LC-40&lt;/div&gt;`)[0];\n            popup_10ec5d1473c360713a22274ebc8050ea.setContent(html_38ac02ec6c11613a10a378560528d711);\n        \n\n        circle_10515ccf40ded442def824842d766cbe.bindPopup(popup_10ec5d1473c360713a22274ebc8050ea)\n        ;\n\n        \n    \n    \n            var marker_3e60013f3a249cc725dfeb512d0afdf5 = L.marker(\n                [28.56230197, -80.57735648],\n                {}\n            ).addTo(map_75e5e87fcd461f61f302fc795de475d8);\n        \n    \n            var div_icon_cdb921c783796e204017b1211b5ef283 = L.divIcon({&quot;className&quot;: &quot;empty&quot;, &quot;html&quot;: &quot;\\u003cdiv style=\\&quot;font-size: 12; color:#d35400;\\&quot;\\u003e\\u003cb\\u003eCCAFS LC-40\\u003c/b\\u003e\\u003c/div\\u003e&quot;, &quot;iconAnchor&quot;: [0, 0], &quot;iconSize&quot;: [20, 20]});\n            marker_3e60013f3a249cc725dfeb512d0afdf5.setIcon(div_icon_cdb921c783796e204017b1211b5ef283);\n        \n    \n            var circle_d4dccdbd252b01d82b32f69fc212d92d = L.circle(\n                [28.56319718, -80.57682003],\n                {&quot;bubblingMouseEvents&quot;: true, &quot;color&quot;: &quot;#d35400&quot;, &quot;dashArray&quot;: null, &quot;dashOffset&quot;: null, &quot;fill&quot;: true, &quot;fillColor&quot;: &quot;#d35400&quot;, &quot;fillOpacity&quot;: 0.2, &quot;fillRule&quot;: &quot;evenodd&quot;, &quot;lineCap&quot;: &quot;round&quot;, &quot;lineJoin&quot;: &quot;round&quot;, &quot;opacity&quot;: 1.0, &quot;radius&quot;: 1000, &quot;stroke&quot;: true, &quot;weight&quot;: 3}\n            ).addTo(map_75e5e87fcd461f61f302fc795de475d8);\n        \n    \n        var popup_c4e38f6f76bd34b0455ee89fc5fe77bd = L.popup({&quot;maxWidth&quot;: &quot;100%&quot;});\n\n        \n            var html_3c4466e48c0d63965da04f86897bb2b8 = $(`&lt;div id=&quot;html_3c4466e48c0d63965da04f86897bb2b8&quot; style=&quot;width: 100.0%; height: 100.0%;&quot;&gt;CCAFS SLC-40&lt;/div&gt;`)[0];\n            popup_c4e38f6f76bd34b0455ee89fc5fe77bd.setContent(html_3c4466e48c0d63965da04f86897bb2b8);\n        \n\n        circle_d4dccdbd252b01d82b32f69fc212d92d.bindPopup(popup_c4e38f6f76bd34b0455ee89fc5fe77bd)\n        ;\n\n        \n    \n    \n            var marker_483a3f77bf2ef72c49865656b493478d = L.marker(\n                [28.56319718, -80.57682003],\n                {}\n            ).addTo(map_75e5e87fcd461f61f302fc795de475d8);\n        \n    \n            var div_icon_e8f5df1a241b9dd1e5a63e200088886c = L.divIcon({&quot;className&quot;: &quot;empty&quot;, &quot;html&quot;: &quot;\\u003cdiv style=\\&quot;font-size: 12; color:#d35400;\\&quot;\\u003e\\u003cb\\u003eCCAFS SLC-40\\u003c/b\\u003e\\u003c/div\\u003e&quot;, &quot;iconAnchor&quot;: [0, 0], &quot;iconSize&quot;: [20, 20]});\n            marker_483a3f77bf2ef72c49865656b493478d.setIcon(div_icon_e8f5df1a241b9dd1e5a63e200088886c);\n        \n    \n            var circle_a6bd212ca9e985b15bc0f7f1642bb98c = L.circle(\n                [28.57325457, -80.64689529],\n                {&quot;bubblingMouseEvents&quot;: true, &quot;color&quot;: &quot;#d35400&quot;, &quot;dashArray&quot;: null, &quot;dashOffset&quot;: null, &quot;fill&quot;: true, &quot;fillColor&quot;: &quot;#d35400&quot;, &quot;fillOpacity&quot;: 0.2, &quot;fillRule&quot;: &quot;evenodd&quot;, &quot;lineCap&quot;: &quot;round&quot;, &quot;lineJoin&quot;: &quot;round&quot;, &quot;opacity&quot;: 1.0, &quot;radius&quot;: 1000, &quot;stroke&quot;: true, &quot;weight&quot;: 3}\n            ).addTo(map_75e5e87fcd461f61f302fc795de475d8);\n        \n    \n        var popup_5cc6bd75d7fd00413f85f1d0e0229843 = L.popup({&quot;maxWidth&quot;: &quot;100%&quot;});\n\n        \n            var html_19cb18e7f45fd50b1f98ff4db22adb79 = $(`&lt;div id=&quot;html_19cb18e7f45fd50b1f98ff4db22adb79&quot; style=&quot;width: 100.0%; height: 100.0%;&quot;&gt;KSC LC-39A&lt;/div&gt;`)[0];\n            popup_5cc6bd75d7fd00413f85f1d0e0229843.setContent(html_19cb18e7f45fd50b1f98ff4db22adb79);\n        \n\n        circle_a6bd212ca9e985b15bc0f7f1642bb98c.bindPopup(popup_5cc6bd75d7fd00413f85f1d0e0229843)\n        ;\n\n        \n    \n    \n            var marker_f7067f8b59d763eef7b12574222cdfd1 = L.marker(\n                [28.57325457, -80.64689529],\n                {}\n            ).addTo(map_75e5e87fcd461f61f302fc795de475d8);\n        \n    \n            var div_icon_994ac034937271b19f44bc3fd0f4c048 = L.divIcon({&quot;className&quot;: &quot;empty&quot;, &quot;html&quot;: &quot;\\u003cdiv style=\\&quot;font-size: 12; color:#d35400;\\&quot;\\u003e\\u003cb\\u003eKSC LC-39A\\u003c/b\\u003e\\u003c/div\\u003e&quot;, &quot;iconAnchor&quot;: [0, 0], &quot;iconSize&quot;: [20, 20]});\n            marker_f7067f8b59d763eef7b12574222cdfd1.setIcon(div_icon_994ac034937271b19f44bc3fd0f4c048);\n        \n    \n            var circle_d6ea12dfda52dbc8f1db8514aa33a0a5 = L.circle(\n                [34.63283416, -120.6107455],\n                {&quot;bubblingMouseEvents&quot;: true, &quot;color&quot;: &quot;#d35400&quot;, &quot;dashArray&quot;: null, &quot;dashOffset&quot;: null, &quot;fill&quot;: true, &quot;fillColor&quot;: &quot;#d35400&quot;, &quot;fillOpacity&quot;: 0.2, &quot;fillRule&quot;: &quot;evenodd&quot;, &quot;lineCap&quot;: &quot;round&quot;, &quot;lineJoin&quot;: &quot;round&quot;, &quot;opacity&quot;: 1.0, &quot;radius&quot;: 1000, &quot;stroke&quot;: true, &quot;weight&quot;: 3}\n            ).addTo(map_75e5e87fcd461f61f302fc795de475d8);\n        \n    \n        var popup_d8e05092aa48a191a83d05c30c8f5129 = L.popup({&quot;maxWidth&quot;: &quot;100%&quot;});\n\n        \n            var html_c7614baa58b8635a26eccfe67b5b9e6f = $(`&lt;div id=&quot;html_c7614baa58b8635a26eccfe67b5b9e6f&quot; style=&quot;width: 100.0%; height: 100.0%;&quot;&gt;VAFB SLC-4E&lt;/div&gt;`)[0];\n            popup_d8e05092aa48a191a83d05c30c8f5129.setContent(html_c7614baa58b8635a26eccfe67b5b9e6f);\n        \n\n        circle_d6ea12dfda52dbc8f1db8514aa33a0a5.bindPopup(popup_d8e05092aa48a191a83d05c30c8f5129)\n        ;\n\n        \n    \n    \n            var marker_9da8a2f3772d69493552d527bc839b75 = L.marker(\n                [34.63283416, -120.6107455],\n                {}\n            ).addTo(map_75e5e87fcd461f61f302fc795de475d8);\n        \n    \n            var div_icon_e728e59ef8b9921ea041b70cc2248d58 = L.divIcon({&quot;className&quot;: &quot;empty&quot;, &quot;html&quot;: &quot;\\u003cdiv style=\\&quot;font-size: 12; color:#d35400;\\&quot;\\u003e\\u003cb\\u003eVAFB SLC-4E\\u003c/b\\u003e\\u003c/div\\u003e&quot;, &quot;iconAnchor&quot;: [0, 0], &quot;iconSize&quot;: [20, 20]});\n            marker_9da8a2f3772d69493552d527bc839b75.setIcon(div_icon_e728e59ef8b9921ea041b70cc2248d58);\n        \n    \n            var marker_cluster_c8a2ebd8e84cceae7ca9424f691782be = L.markerClusterGroup(\n                {}\n            );\n            map_75e5e87fcd461f61f302fc795de475d8.addLayer(marker_cluster_c8a2ebd8e84cceae7ca9424f691782be);\n        \n    \n            var marker_ae2c0dce61bda5ad53a36e1b822781e1 = L.marker(\n                [28.56230197, -80.57735648],\n                {}\n            ).addTo(marker_cluster_c8a2ebd8e84cceae7ca9424f691782be);\n        \n    \n            var icon_a6c79200603d76e42ba2099340021774 = L.AwesomeMarkers.icon(\n                {&quot;extraClasses&quot;: &quot;fa-rotate-0&quot;, &quot;icon&quot;: &quot;info-sign&quot;, &quot;iconColor&quot;: &quot;red&quot;, &quot;markerColor&quot;: &quot;white&quot;, &quot;prefix&quot;: &quot;glyphicon&quot;}\n            );\n            marker_ae2c0dce61bda5ad53a36e1b822781e1.setIcon(icon_a6c79200603d76e42ba2099340021774);\n        \n    \n            var marker_a18fefb1e28e7d847eeacead3ae1d6b9 = L.marker(\n                [28.56230197, -80.57735648],\n                {}\n            ).addTo(marker_cluster_c8a2ebd8e84cceae7ca9424f691782be);\n        \n    \n            var icon_bace74ef641780e24a496e3cbc0737b4 = L.AwesomeMarkers.icon(\n                {&quot;extraClasses&quot;: &quot;fa-rotate-0&quot;, &quot;icon&quot;: &quot;info-sign&quot;, &quot;iconColor&quot;: &quot;red&quot;, &quot;markerColor&quot;: &quot;white&quot;, &quot;prefix&quot;: &quot;glyphicon&quot;}\n            );\n            marker_a18fefb1e28e7d847eeacead3ae1d6b9.setIcon(icon_bace74ef641780e24a496e3cbc0737b4);\n        \n    \n            var marker_6b3f7701004b3c74ccf681ccbda2b14b = L.marker(\n                [28.56230197, -80.57735648],\n                {}\n            ).addTo(marker_cluster_c8a2ebd8e84cceae7ca9424f691782be);\n        \n    \n            var icon_3204de67b14b99b22e6edaef3e849dc8 = L.AwesomeMarkers.icon(\n                {&quot;extraClasses&quot;: &quot;fa-rotate-0&quot;, &quot;icon&quot;: &quot;info-sign&quot;, &quot;iconColor&quot;: &quot;red&quot;, &quot;markerColor&quot;: &quot;white&quot;, &quot;prefix&quot;: &quot;glyphicon&quot;}\n            );\n            marker_6b3f7701004b3c74ccf681ccbda2b14b.setIcon(icon_3204de67b14b99b22e6edaef3e849dc8);\n        \n    \n            var marker_013ba6a64b348768070ab11b4895bd93 = L.marker(\n                [28.56230197, -80.57735648],\n                {}\n            ).addTo(marker_cluster_c8a2ebd8e84cceae7ca9424f691782be);\n        \n    \n            var icon_5caa3f7f4ff69d1f181f1e7bbd977b5d = L.AwesomeMarkers.icon(\n                {&quot;extraClasses&quot;: &quot;fa-rotate-0&quot;, &quot;icon&quot;: &quot;info-sign&quot;, &quot;iconColor&quot;: &quot;red&quot;, &quot;markerColor&quot;: &quot;white&quot;, &quot;prefix&quot;: &quot;glyphicon&quot;}\n            );\n            marker_013ba6a64b348768070ab11b4895bd93.setIcon(icon_5caa3f7f4ff69d1f181f1e7bbd977b5d);\n        \n    \n            var marker_a9a4c2bb05d033427927f51a3be1ccbf = L.marker(\n                [28.56230197, -80.57735648],\n                {}\n            ).addTo(marker_cluster_c8a2ebd8e84cceae7ca9424f691782be);\n        \n    \n            var icon_652bd831e1809397a34c6c78850ebc2e = L.AwesomeMarkers.icon(\n                {&quot;extraClasses&quot;: &quot;fa-rotate-0&quot;, &quot;icon&quot;: &quot;info-sign&quot;, &quot;iconColor&quot;: &quot;red&quot;, &quot;markerColor&quot;: &quot;white&quot;, &quot;prefix&quot;: &quot;glyphicon&quot;}\n            );\n            marker_a9a4c2bb05d033427927f51a3be1ccbf.setIcon(icon_652bd831e1809397a34c6c78850ebc2e);\n        \n    \n            var marker_10f8b4df672746df39c30ea0fef5803d = L.marker(\n                [28.56230197, -80.57735648],\n                {}\n            ).addTo(marker_cluster_c8a2ebd8e84cceae7ca9424f691782be);\n        \n    \n            var icon_6abc8d1729e263a73a2114d28d733ebc = L.AwesomeMarkers.icon(\n                {&quot;extraClasses&quot;: &quot;fa-rotate-0&quot;, &quot;icon&quot;: &quot;info-sign&quot;, &quot;iconColor&quot;: &quot;red&quot;, &quot;markerColor&quot;: &quot;white&quot;, &quot;prefix&quot;: &quot;glyphicon&quot;}\n            );\n            marker_10f8b4df672746df39c30ea0fef5803d.setIcon(icon_6abc8d1729e263a73a2114d28d733ebc);\n        \n    \n            var marker_a53a7dae2ef9ceec9d400b7991c771c9 = L.marker(\n                [28.56230197, -80.57735648],\n                {}\n            ).addTo(marker_cluster_c8a2ebd8e84cceae7ca9424f691782be);\n        \n    \n            var icon_4403af268e844fd2f237a8f5921ef516 = L.AwesomeMarkers.icon(\n                {&quot;extraClasses&quot;: &quot;fa-rotate-0&quot;, &quot;icon&quot;: &quot;info-sign&quot;, &quot;iconColor&quot;: &quot;red&quot;, &quot;markerColor&quot;: &quot;white&quot;, &quot;prefix&quot;: &quot;glyphicon&quot;}\n            );\n            marker_a53a7dae2ef9ceec9d400b7991c771c9.setIcon(icon_4403af268e844fd2f237a8f5921ef516);\n        \n    \n            var marker_85fc4dbb1a805b04ba5f6b9223e89791 = L.marker(\n                [28.56230197, -80.57735648],\n                {}\n            ).addTo(marker_cluster_c8a2ebd8e84cceae7ca9424f691782be);\n        \n    \n            var icon_6ac87b3c802e04398fedadaea0a933c6 = L.AwesomeMarkers.icon(\n                {&quot;extraClasses&quot;: &quot;fa-rotate-0&quot;, &quot;icon&quot;: &quot;info-sign&quot;, &quot;iconColor&quot;: &quot;red&quot;, &quot;markerColor&quot;: &quot;white&quot;, &quot;prefix&quot;: &quot;glyphicon&quot;}\n            );\n            marker_85fc4dbb1a805b04ba5f6b9223e89791.setIcon(icon_6ac87b3c802e04398fedadaea0a933c6);\n        \n    \n            var marker_1d4b5b101637ffa93f6fee999d3cf1f3 = L.marker(\n                [28.56230197, -80.57735648],\n                {}\n            ).addTo(marker_cluster_c8a2ebd8e84cceae7ca9424f691782be);\n        \n    \n            var icon_0688bf897eb67e44d4153b00ef32ade5 = L.AwesomeMarkers.icon(\n                {&quot;extraClasses&quot;: &quot;fa-rotate-0&quot;, &quot;icon&quot;: &quot;info-sign&quot;, &quot;iconColor&quot;: &quot;red&quot;, &quot;markerColor&quot;: &quot;white&quot;, &quot;prefix&quot;: &quot;glyphicon&quot;}\n            );\n            marker_1d4b5b101637ffa93f6fee999d3cf1f3.setIcon(icon_0688bf897eb67e44d4153b00ef32ade5);\n        \n    \n            var marker_ae2323d9b9d2dca5ba323383fcaf9c9f = L.marker(\n                [28.56230197, -80.57735648],\n                {}\n            ).addTo(marker_cluster_c8a2ebd8e84cceae7ca9424f691782be);\n        \n    \n            var icon_5567cdfbbbed84880607ad77e74ae1f0 = L.AwesomeMarkers.icon(\n                {&quot;extraClasses&quot;: &quot;fa-rotate-0&quot;, &quot;icon&quot;: &quot;info-sign&quot;, &quot;iconColor&quot;: &quot;red&quot;, &quot;markerColor&quot;: &quot;white&quot;, &quot;prefix&quot;: &quot;glyphicon&quot;}\n            );\n            marker_ae2323d9b9d2dca5ba323383fcaf9c9f.setIcon(icon_5567cdfbbbed84880607ad77e74ae1f0);\n        \n    \n            var marker_5164ac641f1ecd12bd4b2d36fba1a33c = L.marker(\n                [28.56230197, -80.57735648],\n                {}\n            ).addTo(marker_cluster_c8a2ebd8e84cceae7ca9424f691782be);\n        \n    \n            var icon_b19c40e7fcc2f572d4c5717baad2c677 = L.AwesomeMarkers.icon(\n                {&quot;extraClasses&quot;: &quot;fa-rotate-0&quot;, &quot;icon&quot;: &quot;info-sign&quot;, &quot;iconColor&quot;: &quot;red&quot;, &quot;markerColor&quot;: &quot;white&quot;, &quot;prefix&quot;: &quot;glyphicon&quot;}\n            );\n            marker_5164ac641f1ecd12bd4b2d36fba1a33c.setIcon(icon_b19c40e7fcc2f572d4c5717baad2c677);\n        \n    \n            var marker_dab90e96854ee5c0005a7d8a335d5999 = L.marker(\n                [28.56230197, -80.57735648],\n                {}\n            ).addTo(marker_cluster_c8a2ebd8e84cceae7ca9424f691782be);\n        \n    \n            var icon_c660feea9e747291e7aa8ee87809bf01 = L.AwesomeMarkers.icon(\n                {&quot;extraClasses&quot;: &quot;fa-rotate-0&quot;, &quot;icon&quot;: &quot;info-sign&quot;, &quot;iconColor&quot;: &quot;red&quot;, &quot;markerColor&quot;: &quot;white&quot;, &quot;prefix&quot;: &quot;glyphicon&quot;}\n            );\n            marker_dab90e96854ee5c0005a7d8a335d5999.setIcon(icon_c660feea9e747291e7aa8ee87809bf01);\n        \n    \n            var marker_5dd51b3b623843ae66ff225f6d561168 = L.marker(\n                [28.56230197, -80.57735648],\n                {}\n            ).addTo(marker_cluster_c8a2ebd8e84cceae7ca9424f691782be);\n        \n    \n            var icon_730dfe885b58a6d755d987c9acd68683 = L.AwesomeMarkers.icon(\n                {&quot;extraClasses&quot;: &quot;fa-rotate-0&quot;, &quot;icon&quot;: &quot;info-sign&quot;, &quot;iconColor&quot;: &quot;red&quot;, &quot;markerColor&quot;: &quot;white&quot;, &quot;prefix&quot;: &quot;glyphicon&quot;}\n            );\n            marker_5dd51b3b623843ae66ff225f6d561168.setIcon(icon_730dfe885b58a6d755d987c9acd68683);\n        \n    \n            var marker_db891f8017025cf45cabcdb49012190b = L.marker(\n                [28.56230197, -80.57735648],\n                {}\n            ).addTo(marker_cluster_c8a2ebd8e84cceae7ca9424f691782be);\n        \n    \n            var icon_aca23a0315881320944106be7e2c9407 = L.AwesomeMarkers.icon(\n                {&quot;extraClasses&quot;: &quot;fa-rotate-0&quot;, &quot;icon&quot;: &quot;info-sign&quot;, &quot;iconColor&quot;: &quot;red&quot;, &quot;markerColor&quot;: &quot;white&quot;, &quot;prefix&quot;: &quot;glyphicon&quot;}\n            );\n            marker_db891f8017025cf45cabcdb49012190b.setIcon(icon_aca23a0315881320944106be7e2c9407);\n        \n    \n            var marker_195baf8cc49085c2af440edb5dd90531 = L.marker(\n                [28.56230197, -80.57735648],\n                {}\n            ).addTo(marker_cluster_c8a2ebd8e84cceae7ca9424f691782be);\n        \n    \n            var icon_473bca13f063533f0e2119a1bdc5b59a = L.AwesomeMarkers.icon(\n                {&quot;extraClasses&quot;: &quot;fa-rotate-0&quot;, &quot;icon&quot;: &quot;info-sign&quot;, &quot;iconColor&quot;: &quot;red&quot;, &quot;markerColor&quot;: &quot;white&quot;, &quot;prefix&quot;: &quot;glyphicon&quot;}\n            );\n            marker_195baf8cc49085c2af440edb5dd90531.setIcon(icon_473bca13f063533f0e2119a1bdc5b59a);\n        \n    \n            var marker_59c94d9a96851d83c708ac777ea8fc01 = L.marker(\n                [28.56230197, -80.57735648],\n                {}\n            ).addTo(marker_cluster_c8a2ebd8e84cceae7ca9424f691782be);\n        \n    \n            var icon_45aa9fbb533eb18294fe43517eb070de = L.AwesomeMarkers.icon(\n                {&quot;extraClasses&quot;: &quot;fa-rotate-0&quot;, &quot;icon&quot;: &quot;info-sign&quot;, &quot;iconColor&quot;: &quot;red&quot;, &quot;markerColor&quot;: &quot;white&quot;, &quot;prefix&quot;: &quot;glyphicon&quot;}\n            );\n            marker_59c94d9a96851d83c708ac777ea8fc01.setIcon(icon_45aa9fbb533eb18294fe43517eb070de);\n        \n    \n            var marker_eb2aedd90e1650353e2277ddefcd76e9 = L.marker(\n                [28.56230197, -80.57735648],\n                {}\n            ).addTo(marker_cluster_c8a2ebd8e84cceae7ca9424f691782be);\n        \n    \n            var icon_bf8da824b66312e3dd75cf27f67ce608 = L.AwesomeMarkers.icon(\n                {&quot;extraClasses&quot;: &quot;fa-rotate-0&quot;, &quot;icon&quot;: &quot;info-sign&quot;, &quot;iconColor&quot;: &quot;red&quot;, &quot;markerColor&quot;: &quot;white&quot;, &quot;prefix&quot;: &quot;glyphicon&quot;}\n            );\n            marker_eb2aedd90e1650353e2277ddefcd76e9.setIcon(icon_bf8da824b66312e3dd75cf27f67ce608);\n        \n    \n            var marker_db23bdd508c6e9b80454db046b090bb8 = L.marker(\n                [28.56230197, -80.57735648],\n                {}\n            ).addTo(marker_cluster_c8a2ebd8e84cceae7ca9424f691782be);\n        \n    \n            var icon_2237cda81f1a4cb76cbfca5f55668d6a = L.AwesomeMarkers.icon(\n                {&quot;extraClasses&quot;: &quot;fa-rotate-0&quot;, &quot;icon&quot;: &quot;info-sign&quot;, &quot;iconColor&quot;: &quot;green&quot;, &quot;markerColor&quot;: &quot;white&quot;, &quot;prefix&quot;: &quot;glyphicon&quot;}\n            );\n            marker_db23bdd508c6e9b80454db046b090bb8.setIcon(icon_2237cda81f1a4cb76cbfca5f55668d6a);\n        \n    \n            var marker_6406b43d0b8db799e8b48a898d879138 = L.marker(\n                [28.56230197, -80.57735648],\n                {}\n            ).addTo(marker_cluster_c8a2ebd8e84cceae7ca9424f691782be);\n        \n    \n            var icon_32cf4886cbd0f7f882ad9ce0f99d30a4 = L.AwesomeMarkers.icon(\n                {&quot;extraClasses&quot;: &quot;fa-rotate-0&quot;, &quot;icon&quot;: &quot;info-sign&quot;, &quot;iconColor&quot;: &quot;green&quot;, &quot;markerColor&quot;: &quot;white&quot;, &quot;prefix&quot;: &quot;glyphicon&quot;}\n            );\n            marker_6406b43d0b8db799e8b48a898d879138.setIcon(icon_32cf4886cbd0f7f882ad9ce0f99d30a4);\n        \n    \n            var marker_5bf3487d970fa6a1d137721cadf20815 = L.marker(\n                [28.56230197, -80.57735648],\n                {}\n            ).addTo(marker_cluster_c8a2ebd8e84cceae7ca9424f691782be);\n        \n    \n            var icon_0929cd7005462e6ed28fa5e8d59e0a89 = L.AwesomeMarkers.icon(\n                {&quot;extraClasses&quot;: &quot;fa-rotate-0&quot;, &quot;icon&quot;: &quot;info-sign&quot;, &quot;iconColor&quot;: &quot;red&quot;, &quot;markerColor&quot;: &quot;white&quot;, &quot;prefix&quot;: &quot;glyphicon&quot;}\n            );\n            marker_5bf3487d970fa6a1d137721cadf20815.setIcon(icon_0929cd7005462e6ed28fa5e8d59e0a89);\n        \n    \n            var marker_92d34c1e52c3b6a48b48abf6e670bdc4 = L.marker(\n                [28.56230197, -80.57735648],\n                {}\n            ).addTo(marker_cluster_c8a2ebd8e84cceae7ca9424f691782be);\n        \n    \n            var icon_7f86b5804e1b7f1ede08d77ad54d7f39 = L.AwesomeMarkers.icon(\n                {&quot;extraClasses&quot;: &quot;fa-rotate-0&quot;, &quot;icon&quot;: &quot;info-sign&quot;, &quot;iconColor&quot;: &quot;green&quot;, &quot;markerColor&quot;: &quot;white&quot;, &quot;prefix&quot;: &quot;glyphicon&quot;}\n            );\n            marker_92d34c1e52c3b6a48b48abf6e670bdc4.setIcon(icon_7f86b5804e1b7f1ede08d77ad54d7f39);\n        \n    \n            var marker_3dd03e1a9108b29f06dcc14fc8e9f845 = L.marker(\n                [28.56230197, -80.57735648],\n                {}\n            ).addTo(marker_cluster_c8a2ebd8e84cceae7ca9424f691782be);\n        \n    \n            var icon_f13472f8cbed6da40cf754623aba6fc8 = L.AwesomeMarkers.icon(\n                {&quot;extraClasses&quot;: &quot;fa-rotate-0&quot;, &quot;icon&quot;: &quot;info-sign&quot;, &quot;iconColor&quot;: &quot;green&quot;, &quot;markerColor&quot;: &quot;white&quot;, &quot;prefix&quot;: &quot;glyphicon&quot;}\n            );\n            marker_3dd03e1a9108b29f06dcc14fc8e9f845.setIcon(icon_f13472f8cbed6da40cf754623aba6fc8);\n        \n    \n            var marker_d887f239cfcddb20b73d6c6da996229d = L.marker(\n                [28.56230197, -80.57735648],\n                {}\n            ).addTo(marker_cluster_c8a2ebd8e84cceae7ca9424f691782be);\n        \n    \n            var icon_40b9ff56668a1d25493542e5413200f6 = L.AwesomeMarkers.icon(\n                {&quot;extraClasses&quot;: &quot;fa-rotate-0&quot;, &quot;icon&quot;: &quot;info-sign&quot;, &quot;iconColor&quot;: &quot;green&quot;, &quot;markerColor&quot;: &quot;white&quot;, &quot;prefix&quot;: &quot;glyphicon&quot;}\n            );\n            marker_d887f239cfcddb20b73d6c6da996229d.setIcon(icon_40b9ff56668a1d25493542e5413200f6);\n        \n    \n            var marker_a232e3335c0641b1a6a2f8daf3c39675 = L.marker(\n                [28.56230197, -80.57735648],\n                {}\n            ).addTo(marker_cluster_c8a2ebd8e84cceae7ca9424f691782be);\n        \n    \n            var icon_66b840b1cb50fdfd28cffda25c49116f = L.AwesomeMarkers.icon(\n                {&quot;extraClasses&quot;: &quot;fa-rotate-0&quot;, &quot;icon&quot;: &quot;info-sign&quot;, &quot;iconColor&quot;: &quot;red&quot;, &quot;markerColor&quot;: &quot;white&quot;, &quot;prefix&quot;: &quot;glyphicon&quot;}\n            );\n            marker_a232e3335c0641b1a6a2f8daf3c39675.setIcon(icon_66b840b1cb50fdfd28cffda25c49116f);\n        \n    \n            var marker_c7f4f9132d2f8b71971d7e946dbde0b9 = L.marker(\n                [28.56230197, -80.57735648],\n                {}\n            ).addTo(marker_cluster_c8a2ebd8e84cceae7ca9424f691782be);\n        \n    \n            var icon_c4d6678343c34ba09959b9a19c773e8e = L.AwesomeMarkers.icon(\n                {&quot;extraClasses&quot;: &quot;fa-rotate-0&quot;, &quot;icon&quot;: &quot;info-sign&quot;, &quot;iconColor&quot;: &quot;green&quot;, &quot;markerColor&quot;: &quot;white&quot;, &quot;prefix&quot;: &quot;glyphicon&quot;}\n            );\n            marker_c7f4f9132d2f8b71971d7e946dbde0b9.setIcon(icon_c4d6678343c34ba09959b9a19c773e8e);\n        \n    \n            var marker_edf9a753092db4cd48a0d6a2a9c5b173 = L.marker(\n                [28.56230197, -80.57735648],\n                {}\n            ).addTo(marker_cluster_c8a2ebd8e84cceae7ca9424f691782be);\n        \n    \n            var icon_96b5081c13916c83172ff5afedcb815d = L.AwesomeMarkers.icon(\n                {&quot;extraClasses&quot;: &quot;fa-rotate-0&quot;, &quot;icon&quot;: &quot;info-sign&quot;, &quot;iconColor&quot;: &quot;green&quot;, &quot;markerColor&quot;: &quot;white&quot;, &quot;prefix&quot;: &quot;glyphicon&quot;}\n            );\n            marker_edf9a753092db4cd48a0d6a2a9c5b173.setIcon(icon_96b5081c13916c83172ff5afedcb815d);\n        \n    \n            var marker_5f78c59605613819896562baa7e23e73 = L.marker(\n                [34.63283416, -120.6107455],\n                {}\n            ).addTo(marker_cluster_c8a2ebd8e84cceae7ca9424f691782be);\n        \n    \n            var icon_e17401d6f9f92c43dce521950335d04d = L.AwesomeMarkers.icon(\n                {&quot;extraClasses&quot;: &quot;fa-rotate-0&quot;, &quot;icon&quot;: &quot;info-sign&quot;, &quot;iconColor&quot;: &quot;red&quot;, &quot;markerColor&quot;: &quot;white&quot;, &quot;prefix&quot;: &quot;glyphicon&quot;}\n            );\n            marker_5f78c59605613819896562baa7e23e73.setIcon(icon_e17401d6f9f92c43dce521950335d04d);\n        \n    \n            var marker_db6196d5f667b6462287ea8f2a15ccb9 = L.marker(\n                [34.63283416, -120.6107455],\n                {}\n            ).addTo(marker_cluster_c8a2ebd8e84cceae7ca9424f691782be);\n        \n    \n            var icon_1670e92dd6fb2a1ec7f862537d4fe027 = L.AwesomeMarkers.icon(\n                {&quot;extraClasses&quot;: &quot;fa-rotate-0&quot;, &quot;icon&quot;: &quot;info-sign&quot;, &quot;iconColor&quot;: &quot;red&quot;, &quot;markerColor&quot;: &quot;white&quot;, &quot;prefix&quot;: &quot;glyphicon&quot;}\n            );\n            marker_db6196d5f667b6462287ea8f2a15ccb9.setIcon(icon_1670e92dd6fb2a1ec7f862537d4fe027);\n        \n    \n            var marker_2568736bf3996b43f85229e93f163220 = L.marker(\n                [34.63283416, -120.6107455],\n                {}\n            ).addTo(marker_cluster_c8a2ebd8e84cceae7ca9424f691782be);\n        \n    \n            var icon_9b00dd1260da4ca8813c0cab0bcbf14b = L.AwesomeMarkers.icon(\n                {&quot;extraClasses&quot;: &quot;fa-rotate-0&quot;, &quot;icon&quot;: &quot;info-sign&quot;, &quot;iconColor&quot;: &quot;green&quot;, &quot;markerColor&quot;: &quot;white&quot;, &quot;prefix&quot;: &quot;glyphicon&quot;}\n            );\n            marker_2568736bf3996b43f85229e93f163220.setIcon(icon_9b00dd1260da4ca8813c0cab0bcbf14b);\n        \n    \n            var marker_c4da1e8da85fab18a1980d5357abab92 = L.marker(\n                [34.63283416, -120.6107455],\n                {}\n            ).addTo(marker_cluster_c8a2ebd8e84cceae7ca9424f691782be);\n        \n    \n            var icon_4cf12a4f09b26f55bc2892bab6eecb7b = L.AwesomeMarkers.icon(\n                {&quot;extraClasses&quot;: &quot;fa-rotate-0&quot;, &quot;icon&quot;: &quot;info-sign&quot;, &quot;iconColor&quot;: &quot;green&quot;, &quot;markerColor&quot;: &quot;white&quot;, &quot;prefix&quot;: &quot;glyphicon&quot;}\n            );\n            marker_c4da1e8da85fab18a1980d5357abab92.setIcon(icon_4cf12a4f09b26f55bc2892bab6eecb7b);\n        \n    \n            var marker_543e4183aa1c1f6e82eb77fd3e97f9f5 = L.marker(\n                [34.63283416, -120.6107455],\n                {}\n            ).addTo(marker_cluster_c8a2ebd8e84cceae7ca9424f691782be);\n        \n    \n            var icon_15f1898f0cbacc356e084f158032067c = L.AwesomeMarkers.icon(\n                {&quot;extraClasses&quot;: &quot;fa-rotate-0&quot;, &quot;icon&quot;: &quot;info-sign&quot;, &quot;iconColor&quot;: &quot;green&quot;, &quot;markerColor&quot;: &quot;white&quot;, &quot;prefix&quot;: &quot;glyphicon&quot;}\n            );\n            marker_543e4183aa1c1f6e82eb77fd3e97f9f5.setIcon(icon_15f1898f0cbacc356e084f158032067c);\n        \n    \n            var marker_74fe1429b20ca5b30e90af57b9a37944 = L.marker(\n                [34.63283416, -120.6107455],\n                {}\n            ).addTo(marker_cluster_c8a2ebd8e84cceae7ca9424f691782be);\n        \n    \n            var icon_ca5358c870e9135aaba3d2f41c7181eb = L.AwesomeMarkers.icon(\n                {&quot;extraClasses&quot;: &quot;fa-rotate-0&quot;, &quot;icon&quot;: &quot;info-sign&quot;, &quot;iconColor&quot;: &quot;green&quot;, &quot;markerColor&quot;: &quot;white&quot;, &quot;prefix&quot;: &quot;glyphicon&quot;}\n            );\n            marker_74fe1429b20ca5b30e90af57b9a37944.setIcon(icon_ca5358c870e9135aaba3d2f41c7181eb);\n        \n    \n            var marker_aece6826eb7c5274b09ca7c2a634378a = L.marker(\n                [34.63283416, -120.6107455],\n                {}\n            ).addTo(marker_cluster_c8a2ebd8e84cceae7ca9424f691782be);\n        \n    \n            var icon_31fcbe8824873c32dc38193fe64fbc06 = L.AwesomeMarkers.icon(\n                {&quot;extraClasses&quot;: &quot;fa-rotate-0&quot;, &quot;icon&quot;: &quot;info-sign&quot;, &quot;iconColor&quot;: &quot;red&quot;, &quot;markerColor&quot;: &quot;white&quot;, &quot;prefix&quot;: &quot;glyphicon&quot;}\n            );\n            marker_aece6826eb7c5274b09ca7c2a634378a.setIcon(icon_31fcbe8824873c32dc38193fe64fbc06);\n        \n    \n            var marker_8dc1f8fa30855b16fe58e36079998398 = L.marker(\n                [34.63283416, -120.6107455],\n                {}\n            ).addTo(marker_cluster_c8a2ebd8e84cceae7ca9424f691782be);\n        \n    \n            var icon_eac9b02a5c3a0cdc0459dec5ca5be24f = L.AwesomeMarkers.icon(\n                {&quot;extraClasses&quot;: &quot;fa-rotate-0&quot;, &quot;icon&quot;: &quot;info-sign&quot;, &quot;iconColor&quot;: &quot;red&quot;, &quot;markerColor&quot;: &quot;white&quot;, &quot;prefix&quot;: &quot;glyphicon&quot;}\n            );\n            marker_8dc1f8fa30855b16fe58e36079998398.setIcon(icon_eac9b02a5c3a0cdc0459dec5ca5be24f);\n        \n    \n            var marker_ab23a15d3d64cd4ee9a4d8a26b787fac = L.marker(\n                [34.63283416, -120.6107455],\n                {}\n            ).addTo(marker_cluster_c8a2ebd8e84cceae7ca9424f691782be);\n        \n    \n            var icon_3d32aee9b46e45158b40ba38d68bb868 = L.AwesomeMarkers.icon(\n                {&quot;extraClasses&quot;: &quot;fa-rotate-0&quot;, &quot;icon&quot;: &quot;info-sign&quot;, &quot;iconColor&quot;: &quot;red&quot;, &quot;markerColor&quot;: &quot;white&quot;, &quot;prefix&quot;: &quot;glyphicon&quot;}\n            );\n            marker_ab23a15d3d64cd4ee9a4d8a26b787fac.setIcon(icon_3d32aee9b46e45158b40ba38d68bb868);\n        \n    \n            var marker_d5c5b310fe47a9c297452636c880fae5 = L.marker(\n                [34.63283416, -120.6107455],\n                {}\n            ).addTo(marker_cluster_c8a2ebd8e84cceae7ca9424f691782be);\n        \n    \n            var icon_638c9a7360494e7d31f08f11910fb5d1 = L.AwesomeMarkers.icon(\n                {&quot;extraClasses&quot;: &quot;fa-rotate-0&quot;, &quot;icon&quot;: &quot;info-sign&quot;, &quot;iconColor&quot;: &quot;red&quot;, &quot;markerColor&quot;: &quot;white&quot;, &quot;prefix&quot;: &quot;glyphicon&quot;}\n            );\n            marker_d5c5b310fe47a9c297452636c880fae5.setIcon(icon_638c9a7360494e7d31f08f11910fb5d1);\n        \n    \n            var marker_5fd02a58953c92a64fe9b3ef39e9862f = L.marker(\n                [28.57325457, -80.64689529],\n                {}\n            ).addTo(marker_cluster_c8a2ebd8e84cceae7ca9424f691782be);\n        \n    \n            var icon_db12706f77ca5eec8527b5a591ac3f38 = L.AwesomeMarkers.icon(\n                {&quot;extraClasses&quot;: &quot;fa-rotate-0&quot;, &quot;icon&quot;: &quot;info-sign&quot;, &quot;iconColor&quot;: &quot;green&quot;, &quot;markerColor&quot;: &quot;white&quot;, &quot;prefix&quot;: &quot;glyphicon&quot;}\n            );\n            marker_5fd02a58953c92a64fe9b3ef39e9862f.setIcon(icon_db12706f77ca5eec8527b5a591ac3f38);\n        \n    \n            var marker_8b66a452798fe6d05e951f3befe7964d = L.marker(\n                [28.57325457, -80.64689529],\n                {}\n            ).addTo(marker_cluster_c8a2ebd8e84cceae7ca9424f691782be);\n        \n    \n            var icon_a72f0089ae137c1aece8af11f103193e = L.AwesomeMarkers.icon(\n                {&quot;extraClasses&quot;: &quot;fa-rotate-0&quot;, &quot;icon&quot;: &quot;info-sign&quot;, &quot;iconColor&quot;: &quot;red&quot;, &quot;markerColor&quot;: &quot;white&quot;, &quot;prefix&quot;: &quot;glyphicon&quot;}\n            );\n            marker_8b66a452798fe6d05e951f3befe7964d.setIcon(icon_a72f0089ae137c1aece8af11f103193e);\n        \n    \n            var marker_0f6e8bde157f4a28bc46a5f34c6cb3ac = L.marker(\n                [28.57325457, -80.64689529],\n                {}\n            ).addTo(marker_cluster_c8a2ebd8e84cceae7ca9424f691782be);\n        \n    \n            var icon_df9e44a1907ce7c14297a72e5c15bc39 = L.AwesomeMarkers.icon(\n                {&quot;extraClasses&quot;: &quot;fa-rotate-0&quot;, &quot;icon&quot;: &quot;info-sign&quot;, &quot;iconColor&quot;: &quot;green&quot;, &quot;markerColor&quot;: &quot;white&quot;, &quot;prefix&quot;: &quot;glyphicon&quot;}\n            );\n            marker_0f6e8bde157f4a28bc46a5f34c6cb3ac.setIcon(icon_df9e44a1907ce7c14297a72e5c15bc39);\n        \n    \n            var marker_885ace67692b6fc322abd30dc53b0150 = L.marker(\n                [28.57325457, -80.64689529],\n                {}\n            ).addTo(marker_cluster_c8a2ebd8e84cceae7ca9424f691782be);\n        \n    \n            var icon_32249284164818a356484f5bcb6ffd99 = L.AwesomeMarkers.icon(\n                {&quot;extraClasses&quot;: &quot;fa-rotate-0&quot;, &quot;icon&quot;: &quot;info-sign&quot;, &quot;iconColor&quot;: &quot;green&quot;, &quot;markerColor&quot;: &quot;white&quot;, &quot;prefix&quot;: &quot;glyphicon&quot;}\n            );\n            marker_885ace67692b6fc322abd30dc53b0150.setIcon(icon_32249284164818a356484f5bcb6ffd99);\n        \n    \n            var marker_71ddab9e6450d29cfeb5063b933291b7 = L.marker(\n                [28.57325457, -80.64689529],\n                {}\n            ).addTo(marker_cluster_c8a2ebd8e84cceae7ca9424f691782be);\n        \n    \n            var icon_b5c278c9061e12e01aba7f1f775b7f6b = L.AwesomeMarkers.icon(\n                {&quot;extraClasses&quot;: &quot;fa-rotate-0&quot;, &quot;icon&quot;: &quot;info-sign&quot;, &quot;iconColor&quot;: &quot;red&quot;, &quot;markerColor&quot;: &quot;white&quot;, &quot;prefix&quot;: &quot;glyphicon&quot;}\n            );\n            marker_71ddab9e6450d29cfeb5063b933291b7.setIcon(icon_b5c278c9061e12e01aba7f1f775b7f6b);\n        \n    \n            var marker_65b36bda9de91691a88f26e1a1844c15 = L.marker(\n                [28.57325457, -80.64689529],\n                {}\n            ).addTo(marker_cluster_c8a2ebd8e84cceae7ca9424f691782be);\n        \n    \n            var icon_1f1526a90c9ae03cb18b0c90cbd4a182 = L.AwesomeMarkers.icon(\n                {&quot;extraClasses&quot;: &quot;fa-rotate-0&quot;, &quot;icon&quot;: &quot;info-sign&quot;, &quot;iconColor&quot;: &quot;green&quot;, &quot;markerColor&quot;: &quot;white&quot;, &quot;prefix&quot;: &quot;glyphicon&quot;}\n            );\n            marker_65b36bda9de91691a88f26e1a1844c15.setIcon(icon_1f1526a90c9ae03cb18b0c90cbd4a182);\n        \n    \n            var marker_579153c43536620162df19c6e9b18346 = L.marker(\n                [28.57325457, -80.64689529],\n                {}\n            ).addTo(marker_cluster_c8a2ebd8e84cceae7ca9424f691782be);\n        \n    \n            var icon_6fb6864a2fe5edc85f2a981f1837677b = L.AwesomeMarkers.icon(\n                {&quot;extraClasses&quot;: &quot;fa-rotate-0&quot;, &quot;icon&quot;: &quot;info-sign&quot;, &quot;iconColor&quot;: &quot;green&quot;, &quot;markerColor&quot;: &quot;white&quot;, &quot;prefix&quot;: &quot;glyphicon&quot;}\n            );\n            marker_579153c43536620162df19c6e9b18346.setIcon(icon_6fb6864a2fe5edc85f2a981f1837677b);\n        \n    \n            var marker_76abd791afcff6c3059540abd24a64e4 = L.marker(\n                [28.57325457, -80.64689529],\n                {}\n            ).addTo(marker_cluster_c8a2ebd8e84cceae7ca9424f691782be);\n        \n    \n            var icon_19472bc50006f887f41f0a2f928aee5f = L.AwesomeMarkers.icon(\n                {&quot;extraClasses&quot;: &quot;fa-rotate-0&quot;, &quot;icon&quot;: &quot;info-sign&quot;, &quot;iconColor&quot;: &quot;red&quot;, &quot;markerColor&quot;: &quot;white&quot;, &quot;prefix&quot;: &quot;glyphicon&quot;}\n            );\n            marker_76abd791afcff6c3059540abd24a64e4.setIcon(icon_19472bc50006f887f41f0a2f928aee5f);\n        \n    \n            var marker_cb5db5168a30cbe8792c0d989ef2571e = L.marker(\n                [28.57325457, -80.64689529],\n                {}\n            ).addTo(marker_cluster_c8a2ebd8e84cceae7ca9424f691782be);\n        \n    \n            var icon_fe82f71d2c79fffda50a582c65652ebf = L.AwesomeMarkers.icon(\n                {&quot;extraClasses&quot;: &quot;fa-rotate-0&quot;, &quot;icon&quot;: &quot;info-sign&quot;, &quot;iconColor&quot;: &quot;green&quot;, &quot;markerColor&quot;: &quot;white&quot;, &quot;prefix&quot;: &quot;glyphicon&quot;}\n            );\n            marker_cb5db5168a30cbe8792c0d989ef2571e.setIcon(icon_fe82f71d2c79fffda50a582c65652ebf);\n        \n    \n            var marker_12eb4f54f0d12f86ab8748a48db7cb56 = L.marker(\n                [28.57325457, -80.64689529],\n                {}\n            ).addTo(marker_cluster_c8a2ebd8e84cceae7ca9424f691782be);\n        \n    \n            var icon_c14781765f372087c1b60ce46450a0ad = L.AwesomeMarkers.icon(\n                {&quot;extraClasses&quot;: &quot;fa-rotate-0&quot;, &quot;icon&quot;: &quot;info-sign&quot;, &quot;iconColor&quot;: &quot;green&quot;, &quot;markerColor&quot;: &quot;white&quot;, &quot;prefix&quot;: &quot;glyphicon&quot;}\n            );\n            marker_12eb4f54f0d12f86ab8748a48db7cb56.setIcon(icon_c14781765f372087c1b60ce46450a0ad);\n        \n    \n            var marker_2d2be5e41dedfb52263829974dcc6377 = L.marker(\n                [28.57325457, -80.64689529],\n                {}\n            ).addTo(marker_cluster_c8a2ebd8e84cceae7ca9424f691782be);\n        \n    \n            var icon_238cd9fb9cd404e515a7eb1644e60469 = L.AwesomeMarkers.icon(\n                {&quot;extraClasses&quot;: &quot;fa-rotate-0&quot;, &quot;icon&quot;: &quot;info-sign&quot;, &quot;iconColor&quot;: &quot;green&quot;, &quot;markerColor&quot;: &quot;white&quot;, &quot;prefix&quot;: &quot;glyphicon&quot;}\n            );\n            marker_2d2be5e41dedfb52263829974dcc6377.setIcon(icon_238cd9fb9cd404e515a7eb1644e60469);\n        \n    \n            var marker_0e5c098112166f50fa7559b33bf0153d = L.marker(\n                [28.57325457, -80.64689529],\n                {}\n            ).addTo(marker_cluster_c8a2ebd8e84cceae7ca9424f691782be);\n        \n    \n            var icon_0d6741527b4596b42852726f5a112b44 = L.AwesomeMarkers.icon(\n                {&quot;extraClasses&quot;: &quot;fa-rotate-0&quot;, &quot;icon&quot;: &quot;info-sign&quot;, &quot;iconColor&quot;: &quot;green&quot;, &quot;markerColor&quot;: &quot;white&quot;, &quot;prefix&quot;: &quot;glyphicon&quot;}\n            );\n            marker_0e5c098112166f50fa7559b33bf0153d.setIcon(icon_0d6741527b4596b42852726f5a112b44);\n        \n    \n            var marker_71d7e2b8120c2bd60c68b090be2935b6 = L.marker(\n                [28.57325457, -80.64689529],\n                {}\n            ).addTo(marker_cluster_c8a2ebd8e84cceae7ca9424f691782be);\n        \n    \n            var icon_9664adfde98a4703507733f9f7e7b9ac = L.AwesomeMarkers.icon(\n                {&quot;extraClasses&quot;: &quot;fa-rotate-0&quot;, &quot;icon&quot;: &quot;info-sign&quot;, &quot;iconColor&quot;: &quot;green&quot;, &quot;markerColor&quot;: &quot;white&quot;, &quot;prefix&quot;: &quot;glyphicon&quot;}\n            );\n            marker_71d7e2b8120c2bd60c68b090be2935b6.setIcon(icon_9664adfde98a4703507733f9f7e7b9ac);\n        \n    \n            var marker_9d95a2ba2e5858a0d0c1c367b2810962 = L.marker(\n                [28.56319718, -80.57682003],\n                {}\n            ).addTo(marker_cluster_c8a2ebd8e84cceae7ca9424f691782be);\n        \n    \n            var icon_fb08085adb237beb07fbace36fababf9 = L.AwesomeMarkers.icon(\n                {&quot;extraClasses&quot;: &quot;fa-rotate-0&quot;, &quot;icon&quot;: &quot;info-sign&quot;, &quot;iconColor&quot;: &quot;green&quot;, &quot;markerColor&quot;: &quot;white&quot;, &quot;prefix&quot;: &quot;glyphicon&quot;}\n            );\n            marker_9d95a2ba2e5858a0d0c1c367b2810962.setIcon(icon_fb08085adb237beb07fbace36fababf9);\n        \n    \n            var marker_dd0792a96f52a2fa72733aada48a2ba4 = L.marker(\n                [28.56319718, -80.57682003],\n                {}\n            ).addTo(marker_cluster_c8a2ebd8e84cceae7ca9424f691782be);\n        \n    \n            var icon_83b4ca13e11b990ca38e81d4a9d0b01a = L.AwesomeMarkers.icon(\n                {&quot;extraClasses&quot;: &quot;fa-rotate-0&quot;, &quot;icon&quot;: &quot;info-sign&quot;, &quot;iconColor&quot;: &quot;green&quot;, &quot;markerColor&quot;: &quot;white&quot;, &quot;prefix&quot;: &quot;glyphicon&quot;}\n            );\n            marker_dd0792a96f52a2fa72733aada48a2ba4.setIcon(icon_83b4ca13e11b990ca38e81d4a9d0b01a);\n        \n    \n            var marker_41d63817b06dd9fd553c0983fe324ae0 = L.marker(\n                [28.56319718, -80.57682003],\n                {}\n            ).addTo(marker_cluster_c8a2ebd8e84cceae7ca9424f691782be);\n        \n    \n            var icon_a7eff62cad5d8d4a3510911add299486 = L.AwesomeMarkers.icon(\n                {&quot;extraClasses&quot;: &quot;fa-rotate-0&quot;, &quot;icon&quot;: &quot;info-sign&quot;, &quot;iconColor&quot;: &quot;red&quot;, &quot;markerColor&quot;: &quot;white&quot;, &quot;prefix&quot;: &quot;glyphicon&quot;}\n            );\n            marker_41d63817b06dd9fd553c0983fe324ae0.setIcon(icon_a7eff62cad5d8d4a3510911add299486);\n        \n    \n            var marker_2d18504efcdb98c4a55ea4fa7dab7f4b = L.marker(\n                [28.56319718, -80.57682003],\n                {}\n            ).addTo(marker_cluster_c8a2ebd8e84cceae7ca9424f691782be);\n        \n    \n            var icon_bf880746600a7bf78a598462a91e0a27 = L.AwesomeMarkers.icon(\n                {&quot;extraClasses&quot;: &quot;fa-rotate-0&quot;, &quot;icon&quot;: &quot;info-sign&quot;, &quot;iconColor&quot;: &quot;red&quot;, &quot;markerColor&quot;: &quot;white&quot;, &quot;prefix&quot;: &quot;glyphicon&quot;}\n            );\n            marker_2d18504efcdb98c4a55ea4fa7dab7f4b.setIcon(icon_bf880746600a7bf78a598462a91e0a27);\n        \n    \n            var marker_f62596ce8308d41f53b8694f4140f3ae = L.marker(\n                [28.56319718, -80.57682003],\n                {}\n            ).addTo(marker_cluster_c8a2ebd8e84cceae7ca9424f691782be);\n        \n    \n            var icon_865ced624f1d841b71222d4ea1d99b53 = L.AwesomeMarkers.icon(\n                {&quot;extraClasses&quot;: &quot;fa-rotate-0&quot;, &quot;icon&quot;: &quot;info-sign&quot;, &quot;iconColor&quot;: &quot;red&quot;, &quot;markerColor&quot;: &quot;white&quot;, &quot;prefix&quot;: &quot;glyphicon&quot;}\n            );\n            marker_f62596ce8308d41f53b8694f4140f3ae.setIcon(icon_865ced624f1d841b71222d4ea1d99b53);\n        \n    \n            var marker_0db8a31cae720fb5196703cab165b92a = L.marker(\n                [28.56319718, -80.57682003],\n                {}\n            ).addTo(marker_cluster_c8a2ebd8e84cceae7ca9424f691782be);\n        \n    \n            var icon_67fbd97daa780aba03928119f48adcc8 = L.AwesomeMarkers.icon(\n                {&quot;extraClasses&quot;: &quot;fa-rotate-0&quot;, &quot;icon&quot;: &quot;info-sign&quot;, &quot;iconColor&quot;: &quot;green&quot;, &quot;markerColor&quot;: &quot;white&quot;, &quot;prefix&quot;: &quot;glyphicon&quot;}\n            );\n            marker_0db8a31cae720fb5196703cab165b92a.setIcon(icon_67fbd97daa780aba03928119f48adcc8);\n        \n    \n            var marker_9de2f5565b6b82160ca46564f8478aa2 = L.marker(\n                [28.56319718, -80.57682003],\n                {}\n            ).addTo(marker_cluster_c8a2ebd8e84cceae7ca9424f691782be);\n        \n    \n            var icon_55eda43f26107f8fa405c83f0c42d9a3 = L.AwesomeMarkers.icon(\n                {&quot;extraClasses&quot;: &quot;fa-rotate-0&quot;, &quot;icon&quot;: &quot;info-sign&quot;, &quot;iconColor&quot;: &quot;red&quot;, &quot;markerColor&quot;: &quot;white&quot;, &quot;prefix&quot;: &quot;glyphicon&quot;}\n            );\n            marker_9de2f5565b6b82160ca46564f8478aa2.setIcon(icon_55eda43f26107f8fa405c83f0c42d9a3);\n        \n    \n            var mouse_position_7a6a61024110a8ed0870be916f4b270b = new L.Control.MousePosition(\n                {&quot;emptyString&quot;: &quot;NaN&quot;, &quot;lngFirst&quot;: false, &quot;numDigits&quot;: 20, &quot;position&quot;: &quot;topright&quot;, &quot;prefix&quot;: &quot;Lat:&quot;, &quot;separator&quot;: &quot; Long: &quot;}\n            );\n            mouse_position_7a6a61024110a8ed0870be916f4b270b.options[&quot;latFormatter&quot;] =\n                function(num) {return L.Util.formatNum(num, 5);};;\n            mouse_position_7a6a61024110a8ed0870be916f4b270b.options[&quot;lngFormatter&quot;] =\n                function(num) {return L.Util.formatNum(num, 5);};;\n            map_75e5e87fcd461f61f302fc795de475d8.addControl(mouse_position_7a6a61024110a8ed0870be916f4b270b);\n        \n&lt;/script&gt;\" style=\"position:absolute;width:100%;height:100%;left:0;top:0;border:none !important;\" allowfullscreen webkitallowfullscreen mozallowfullscreen></iframe></div></div>"
          },
          "metadata": {}
        }
      ]
    },
    {
      "metadata": {
        "id": "oLrgJn9cTdW0"
      },
      "cell_type": "markdown",
      "source": [
        "Now zoom in to a launch site and explore its proximity to see if you can easily find any railway, highway, coastline, etc. Move your mouse to these points and mark down their coordinates (shown on the top-left) in order to the distance to the launch site.\n"
      ]
    },
    {
      "metadata": {
        "id": "O8nJAd8iTdW0"
      },
      "cell_type": "markdown",
      "source": [
        "You can calculate the distance between two points on the map based on their `Lat` and `Long` values using the following method:\n"
      ]
    },
    {
      "metadata": {
        "id": "eRk6C_HHTdW0"
      },
      "cell_type": "code",
      "source": [
        "from math import sin, cos, sqrt, atan2, radians\n",
        "\n",
        "def calculate_distance(lat1, lon1, lat2, lon2):\n",
        "    # approximate radius of earth in km\n",
        "    R = 6373.0\n",
        "\n",
        "    lat1 = radians(lat1)\n",
        "    lon1 = radians(lon1)\n",
        "    lat2 = radians(lat2)\n",
        "    lon2 = radians(lon2)\n",
        "\n",
        "    dlon = lon2 - lon1\n",
        "    dlat = lat2 - lat1\n",
        "\n",
        "    a = sin(dlat / 2)**2 + cos(lat1) * cos(lat2) * sin(dlon / 2)**2\n",
        "    c = 2 * atan2(sqrt(a), sqrt(1 - a))\n",
        "\n",
        "    distance = R * c\n",
        "    return distance"
      ],
      "execution_count": null,
      "outputs": []
    },
    {
      "metadata": {
        "id": "ozWbhuevTdW0"
      },
      "cell_type": "markdown",
      "source": [
        "*TODO:* Mark down a point on the closest coastline using MousePosition and calculate the distance between the coastline point and the launch site.\n"
      ]
    },
    {
      "metadata": {
        "id": "SOMbqvMlTdW1"
      },
      "cell_type": "code",
      "source": [
        "# find coordinate of the closet coastline\n",
        "# e.g.,: Lat: 28.56367  Lon: -80.57163\n",
        "launch_site_lat = \n",
        "launch_site_lon = \n",
        "coastline_lat = \n",
        "coastline_lon = \n",
        "# distance_coastline = calculate_distance(launch_site_lat, launch_site_lon, coastline_lat, coastline_lon)"
      ],
      "execution_count": null,
      "outputs": []
    },
    {
      "metadata": {
        "id": "kj5m3qLwTdW1"
      },
      "cell_type": "markdown",
      "source": [
        "*TODO:* After obtained its coordinate, create a `folium.Marker` to show the distance\n"
      ]
    },
    {
      "metadata": {
        "id": "7vUpJ-qPTdW1"
      },
      "cell_type": "code",
      "source": [
        "# Create and add a folium.Marker on your selected closest coastline point on the map\n",
        "# Display the distance between coastline point and launch site using the icon property \n",
        "# for example\n",
        "distance_marker = folium.Marker(\n",
        "   coordinate,\n",
        "   icon=DivIcon(\n",
        "       icon_size=(20,20),\n",
        "       icon_anchor=(0,0),\n",
        "       html='<div style=\"font-size: 12; color:#d35400;\"><b>%s</b></div>' % \"{:10.2f} KM\".format(distance),\n",
        "       )\n",
        "   )"
      ],
      "execution_count": null,
      "outputs": []
    },
    {
      "metadata": {
        "id": "da3i8UeiTdW1"
      },
      "cell_type": "markdown",
      "source": [
        "*TODO:* Draw a `PolyLine` between a launch site to the selected coastline point\n"
      ]
    },
    {
      "metadata": {
        "id": "RAdOolFyTdW1"
      },
      "cell_type": "code",
      "source": [
        "# Create a `folium.PolyLine` object using the coastline coordinates and launch site coordinate\n",
        "# lines=folium.PolyLine(locations=coordinates, weight=1)\n",
        "site_map.add_child(lines)"
      ],
      "execution_count": null,
      "outputs": []
    },
    {
      "metadata": {
        "id": "2cYtA8SaTdW2"
      },
      "cell_type": "markdown",
      "source": [
        "Your updated map with distance line should look like the following screenshot:\n"
      ]
    },
    {
      "metadata": {
        "id": "TMmtKrwqTdW2"
      },
      "cell_type": "markdown",
      "source": [
        "<center>\n",
        "    <img src=\"https://cf-courses-data.s3.us.cloud-object-storage.appdomain.cloud/IBM-DS0321EN-SkillsNetwork/labs/module_3/images/launch_site_marker_distance.png\" />\n",
        "</center>\n"
      ]
    },
    {
      "metadata": {
        "id": "ze7es3ExTdW2"
      },
      "cell_type": "markdown",
      "source": [
        "*TODO:* Similarly, you can draw a line betwee a launch site to its closest city, railway, highway, etc. You need to use `MousePosition` to find the their coordinates on the map first\n"
      ]
    },
    {
      "metadata": {
        "id": "raKJp-jHTdW3"
      },
      "cell_type": "markdown",
      "source": [
        "A railway map symbol may look like this:\n"
      ]
    },
    {
      "metadata": {
        "id": "8E-QG24iTdW3"
      },
      "cell_type": "markdown",
      "source": [
        "<center>\n",
        "    <img src=\"https://cf-courses-data.s3.us.cloud-object-storage.appdomain.cloud/IBM-DS0321EN-SkillsNetwork/labs/module_3/images/railway.png\" />\n",
        "</center>\n"
      ]
    },
    {
      "metadata": {
        "id": "E3Upt-ABTdW3"
      },
      "cell_type": "markdown",
      "source": [
        "A highway map symbol may look like this:\n"
      ]
    },
    {
      "metadata": {
        "id": "N0Jdk0pnTdW3"
      },
      "cell_type": "markdown",
      "source": [
        "<center>\n",
        "    <img src=\"https://cf-courses-data.s3.us.cloud-object-storage.appdomain.cloud/IBM-DS0321EN-SkillsNetwork/labs/module_3/images/highway.png\" />\n",
        "</center>\n"
      ]
    },
    {
      "metadata": {
        "id": "V2bKAS2RTdW3"
      },
      "cell_type": "markdown",
      "source": [
        "A city map symbol may look like this:\n"
      ]
    },
    {
      "metadata": {
        "id": "sK54F7VeTdW3"
      },
      "cell_type": "markdown",
      "source": [
        "<center>\n",
        "    <img src=\"https://cf-courses-data.s3.us.cloud-object-storage.appdomain.cloud/IBM-DS0321EN-SkillsNetwork/labs/module_3/images/city.png\" />\n",
        "</center>\n"
      ]
    },
    {
      "metadata": {
        "id": "ci14IqxVTdW4"
      },
      "cell_type": "code",
      "source": [
        "# Create a marker with distance to a closest city, railway, highway, etc.\n",
        "# Draw a line between the marker to the launch site\n"
      ],
      "execution_count": null,
      "outputs": []
    },
    {
      "metadata": {
        "id": "vKlDIJJATdW4"
      },
      "cell_type": "code",
      "source": [
        ""
      ],
      "execution_count": null,
      "outputs": []
    },
    {
      "metadata": {
        "id": "Ep_Q-dxTTdW4"
      },
      "cell_type": "code",
      "source": [
        ""
      ],
      "execution_count": null,
      "outputs": []
    },
    {
      "metadata": {
        "id": "dau3OyarTdW4"
      },
      "cell_type": "markdown",
      "source": [
        "After you plot distance lines to the proximities, you can answer the following questions easily:\n",
        "\n",
        "*   Are launch sites in close proximity to railways?\n",
        "*   Are launch sites in close proximity to highways?\n",
        "*   Are launch sites in close proximity to coastline?\n",
        "*   Do launch sites keep certain distance away from cities?\n",
        "\n",
        "Also please try to explain your findings.\n"
      ]
    },
    {
      "metadata": {
        "id": "V_HClmBJTdW4"
      },
      "cell_type": "markdown",
      "source": [
        "# Next Steps:\n",
        "\n",
        "Now you have discovered many interesting insights related to the launch sites' location using folium, in a very interactive way. Next, you will need to build a dashboard using Ploty Dash on detailed launch records.\n"
      ]
    },
    {
      "metadata": {
        "id": "NuWsBGwJTdW4"
      },
      "cell_type": "markdown",
      "source": [
        "## Authors\n"
      ]
    },
    {
      "metadata": {
        "id": "Vr3sbTVtTdW4"
      },
      "cell_type": "markdown",
      "source": [
        "[Yan Luo](https://www.linkedin.com/in/yan-luo-96288783/?utm_medium=Exinfluencer&utm_source=Exinfluencer&utm_content=000026UJ&utm_term=10006555&utm_id=NA-SkillsNetwork-Channel-SkillsNetworkCoursesIBMDS0321ENSkillsNetwork26802033-2021-01-01)\n"
      ]
    },
    {
      "metadata": {
        "id": "UJRdDL8qTdW5"
      },
      "cell_type": "markdown",
      "source": [
        "### Other Contributors\n"
      ]
    },
    {
      "metadata": {
        "id": "QGBaZLjfTdW5"
      },
      "cell_type": "markdown",
      "source": [
        "Joseph Santarcangelo\n"
      ]
    },
    {
      "metadata": {
        "id": "I6ejdQmLTdW5"
      },
      "cell_type": "markdown",
      "source": [
        "## Change Log\n"
      ]
    },
    {
      "metadata": {
        "id": "VOo0DAXuTdW5"
      },
      "cell_type": "markdown",
      "source": [
        "| Date (YYYY-MM-DD) | Version | Changed By | Change Description          |\n",
        "| ----------------- | ------- | ---------- | --------------------------- |\n",
        "| 2021-05-26        | 1.0     | Yan        | Created the initial version |\n"
      ]
    },
    {
      "metadata": {
        "id": "5Kd9c7w9TdW5"
      },
      "cell_type": "markdown",
      "source": [
        "Copyright © 2021 IBM Corporation. All rights reserved.\n"
      ]
    }
  ],
  "metadata": {
    "kernelspec": {
      "name": "python3",
      "display_name": "Python 3.9",
      "language": "python"
    },
    "language_info": {
      "name": "python",
      "version": "3.9.7",
      "mimetype": "text/x-python",
      "codemirror_mode": {
        "name": "ipython",
        "version": 3
      },
      "pygments_lexer": "ipython3",
      "nbconvert_exporter": "python",
      "file_extension": ".py"
    },
    "papermill": {
      "duration": 142.196942,
      "end_time": "2020-09-19T06:29:13.341578",
      "environment_variables": {},
      "exception": null,
      "input_path": "__notebook__.ipynb",
      "output_path": "__notebook__.ipynb",
      "parameters": {},
      "start_time": "2020-09-19T06:26:51.144636",
      "version": "2.1.0"
    },
    "colab": {
      "name": "Interactive Visual Analytics with Folium.ipynb",
      "provenance": []
    }
  },
  "nbformat": 4,
  "nbformat_minor": 0
}